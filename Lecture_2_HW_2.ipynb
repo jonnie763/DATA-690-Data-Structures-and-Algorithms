{
  "nbformat": 4,
  "nbformat_minor": 0,
  "metadata": {
    "colab": {
      "name": "Lecture 2 -  HW #2.ipynb",
      "provenance": [],
      "authorship_tag": "ABX9TyMoh8jNJsfBsvnC0FdC7bkc",
      "include_colab_link": true
    },
    "kernelspec": {
      "name": "python3",
      "display_name": "Python 3"
    },
    "language_info": {
      "name": "python"
    }
  },
  "cells": [
    {
      "cell_type": "markdown",
      "metadata": {
        "id": "view-in-github",
        "colab_type": "text"
      },
      "source": [
        "<a href=\"https://colab.research.google.com/github/jonnie763/DATA-690-Data-Structures-and-Algorithms/blob/main/Lecture_2_HW_2.ipynb\" target=\"_parent\"><img src=\"https://colab.research.google.com/assets/colab-badge.svg\" alt=\"Open In Colab\"/></a>"
      ]
    },
    {
      "cell_type": "markdown",
      "metadata": {
        "id": "wgIEO1zG2R62"
      },
      "source": [
        "## 3.3 Excercise \n",
        "Finger exercise: What would the code in Figure 3.4 do if the statement x = 25 were replaced by x\n",
        "= -25?"
      ]
    },
    {
      "cell_type": "code",
      "metadata": {
        "id": "6xzdeUjS2WHP"
      },
      "source": [
        "x = -25\n",
        "epsilon = .01\n",
        "numGuesses = 0 \n",
        "low = 0.0\n",
        "high = max(1.0, x)\n",
        "ans = (high + low) / 2.0\n",
        "\n",
        "while abs(ans**2 - x) >= epsilon:\n",
        "  print('low=', low, 'high=', high, 'ans=', ans)\n",
        "  numGuesses += 1 # This is semantically same as numGuesses = numGuesses + 1\n",
        "  if ans**2 < x:\n",
        "    low = ans\n",
        "  else:\n",
        "    high = ans\n",
        "  ans = (high + low)/2.0\n",
        "print('numGuesses =', numGuesses)"
      ],
      "execution_count": null,
      "outputs": []
    },
    {
      "cell_type": "markdown",
      "metadata": {
        "id": "EjbXH_-rEZQs"
      },
      "source": [
        "Finger exercise: What would the code in Figure 3.4 do if the statement x = 25 were replaced by x\n",
        "= -25?\n",
        "\n",
        "##Answer: It will go on forever, the user has to stop the program or it will go on forever. "
      ]
    },
    {
      "cell_type": "markdown",
      "metadata": {
        "id": "x85yFzgX1gk2"
      },
      "source": [
        "## 3.3 Excercise \n",
        "\n",
        "Finger exercise: What would have to be changed to make the code in Figure 3.4 work for finding an\n",
        "approximation to the cube root of both negative and positive numbers? (Hint: think about changing\n",
        "low to ensure that the answer lies within the region being searched.)\n"
      ]
    },
    {
      "cell_type": "code",
      "metadata": {
        "colab": {
          "base_uri": "https://localhost:8080/"
        },
        "id": "d35h4Fs81pBg",
        "outputId": "48c979eb-e796-493b-e1ea-4a18dab6a06e"
      },
      "source": [
        "x = 8\n",
        "epsilon = 0.5\n",
        "num_guesses = 0\n",
        "low = min(x, 1.0)\n",
        "high = max(1.0, x)\n",
        "ans = (high + low) / 2.0\n",
        "while abs(ans**3 - x) >= epsilon:\n",
        "    print('low =', low, 'high =', high, 'ans =', ans)\n",
        "    num_guesses += 1\n",
        "    if ans**3 < x:\n",
        "        low = ans\n",
        "    else:\n",
        "        high = ans\n",
        "    ans = (high + low) / 2.0\n",
        "\n",
        "print('num guesses =', num_guesses)\n",
        "print(ans, 'is very close to cube root of', x)\n"
      ],
      "execution_count": 15,
      "outputs": [
        {
          "output_type": "stream",
          "name": "stdout",
          "text": [
            "low = 1.0 high = 8 ans = 4.5\n",
            "low = 1.0 high = 4.5 ans = 2.75\n",
            "low = 1.0 high = 2.75 ans = 1.875\n",
            "low = 1.875 high = 2.75 ans = 2.3125\n",
            "low = 1.875 high = 2.3125 ans = 2.09375\n",
            "num guesses = 5\n",
            "1.984375 is very close to cube root of 8\n"
          ]
        }
      ]
    }
  ]
}