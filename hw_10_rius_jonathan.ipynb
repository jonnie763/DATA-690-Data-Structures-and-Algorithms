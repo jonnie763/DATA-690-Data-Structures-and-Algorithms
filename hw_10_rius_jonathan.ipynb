{
  "nbformat": 4,
  "nbformat_minor": 0,
  "metadata": {
    "kernelspec": {
      "display_name": "Python 3",
      "language": "python",
      "name": "python3"
    },
    "language_info": {
      "codemirror_mode": {
        "name": "ipython",
        "version": 3
      },
      "file_extension": ".py",
      "mimetype": "text/x-python",
      "name": "python",
      "nbconvert_exporter": "python",
      "pygments_lexer": "ipython3",
      "version": "3.8.5"
    },
    "colab": {
      "name": "hw_10_rius_jonathan.ipynb",
      "provenance": [],
      "collapsed_sections": [],
      "include_colab_link": true
    }
  },
  "cells": [
    {
      "cell_type": "markdown",
      "metadata": {
        "id": "view-in-github",
        "colab_type": "text"
      },
      "source": [
        "<a href=\"https://colab.research.google.com/github/jonnie763/DATA-690-Data-Structures-and-Algorithms/blob/main/hw_10_rius_jonathan.ipynb\" target=\"_parent\"><img src=\"https://colab.research.google.com/assets/colab-badge.svg\" alt=\"Open In Colab\"/></a>"
      ]
    },
    {
      "cell_type": "markdown",
      "metadata": {
        "id": "v-0S8rd72_Go"
      },
      "source": [
        "1. Create a sample code of partitioning. Use 5 as k argument."
      ]
    },
    {
      "cell_type": "code",
      "metadata": {
        "colab": {
          "base_uri": "https://localhost:8080/"
        },
        "id": "2hz1KLou3Uqf",
        "outputId": "66746843-b2bd-4b09-bbbf-8502b06cf8df"
      },
      "source": [
        "import numpy as np\n",
        "\n",
        "x = np.array([7, 2, 3, 1, 6, 5, 4])\n",
        "\n",
        "np.partition(x, 5)                   # 5 as k argument (only starts sorting at 5)"
      ],
      "execution_count": 28,
      "outputs": [
        {
          "output_type": "execute_result",
          "data": {
            "text/plain": [
              "array([2, 1, 3, 4, 5, 6, 7])"
            ]
          },
          "metadata": {},
          "execution_count": 28
        }
      ]
    },
    {
      "cell_type": "markdown",
      "metadata": {
        "id": "3UoGzXcl2_Gs"
      },
      "source": [
        "2. Create a sample structure array using following specification:\n",
        "- name: OrderDate, format: unicode maximum 8 characters\n",
        "- name: OrderAmount, format: float 8-bytes\n",
        "- name: OrderNumber, format: integer 4-bytes\n",
        "- name: OrderName, format: unicode maximum 20 characters"
      ]
    },
    {
      "cell_type": "code",
      "metadata": {
        "colab": {
          "base_uri": "https://localhost:8080/"
        },
        "id": "BErtsaj64_zL",
        "outputId": "dd0bdc3a-691a-46be-c8eb-77d87224d12d"
      },
      "source": [
        "data = np.zeros(10, dtype={'names':('OrderDate', 'OrderAmount', 'OrderNumber','OrderName'), # OrderDate, OrderAmount, etc..\n",
        "                          'formats':('U8', 'f8', 'i4','<U20')})                            # Appropriate Format (integers,float, max characters)\n",
        "print(data.dtype)"
      ],
      "execution_count": 29,
      "outputs": [
        {
          "output_type": "stream",
          "name": "stdout",
          "text": [
            "[('OrderDate', '<U8'), ('OrderAmount', '<f8'), ('OrderNumber', '<i4'), ('OrderName', '<U20')]\n"
          ]
        }
      ]
    },
    {
      "cell_type": "markdown",
      "metadata": {
        "id": "6ZFq7yTZ2_Gt"
      },
      "source": [
        "3. Using #2, create a NumPy array of 10 elements with proper initialization of the structured array. Note order numbers must be between 101 - 110."
      ]
    },
    {
      "cell_type": "code",
      "metadata": {
        "id": "6ckwizkB7PKV"
      },
      "source": [
        "OrderDate = ['5/12', '3/12', '3/13', '3/4','5/4','3/4','4/5','4/3','3/2','4/3'] # Ten elements per category \n",
        "OrderAmount = [25, 45, 37, 19,12,12,12,21,32,21]\n",
        "OrderNumber = [101,102,103,104,105,106,107,108,109,110] # Needs to be 101 to 110\n",
        "OrderName= ['Jon', 'Jonathan', 'Jonny', 'John','J','Jonhny','Jesse','Santiago','Richard','Zaira']"
      ],
      "execution_count": 30,
      "outputs": []
    },
    {
      "cell_type": "code",
      "metadata": {
        "id": "64PRmiqqS_81",
        "colab": {
          "base_uri": "https://localhost:8080/"
        },
        "outputId": "30afab44-07bd-4dde-db76-a4ab0bcbc2b6"
      },
      "source": [
        "data = np.zeros(10, dtype={'names':('OrderDate', 'OrderAmount', 'OrderNumber','OrderName'), # From previous code\n",
        "                          'formats':('U8', 'f8', 'i4','<U20')})\n",
        "print(data.dtype)"
      ],
      "execution_count": 31,
      "outputs": [
        {
          "output_type": "stream",
          "name": "stdout",
          "text": [
            "[('OrderDate', '<U8'), ('OrderAmount', '<f8'), ('OrderNumber', '<i4'), ('OrderName', '<U20')]\n"
          ]
        }
      ]
    },
    {
      "cell_type": "code",
      "metadata": {
        "colab": {
          "base_uri": "https://localhost:8080/"
        },
        "id": "HQjuF0D0A9zJ",
        "outputId": "785f4b12-5e04-4d0c-f524-88611c8e60da"
      },
      "source": [
        "data['OrderDate'] = OrderDate     # Creating Structured Array \n",
        "data['OrderAmount'] = OrderAmount\n",
        "data['OrderNumber'] = OrderNumber\n",
        "data['OrderName'] = OrderName\n",
        "print(data)"
      ],
      "execution_count": 32,
      "outputs": [
        {
          "output_type": "stream",
          "name": "stdout",
          "text": [
            "[('5/12', 25., 101, 'Jon') ('3/12', 45., 102, 'Jonathan')\n",
            " ('3/13', 37., 103, 'Jonny') ('3/4', 19., 104, 'John')\n",
            " ('5/4', 12., 105, 'J') ('3/4', 12., 106, 'Jonhny')\n",
            " ('4/5', 12., 107, 'Jesse') ('4/3', 21., 108, 'Santiago')\n",
            " ('3/2', 32., 109, 'Richard') ('4/3', 21., 110, 'Zaira')]\n"
          ]
        }
      ]
    },
    {
      "cell_type": "markdown",
      "metadata": {
        "id": "F_xfUGZx2_Gt"
      },
      "source": [
        "4. Using the array in #3, filter the array to return orders with order number less than 105. "
      ]
    },
    {
      "cell_type": "code",
      "metadata": {
        "id": "Uv6MI0w37kP5",
        "colab": {
          "base_uri": "https://localhost:8080/"
        },
        "outputId": "b29255b2-ab68-4082-aaaa-1e5c19140b8e"
      },
      "source": [
        "data[data['OrderNumber'] < 105]['OrderName'] # Less than 105, but code below has more data and fulfills the requirements "
      ],
      "execution_count": 33,
      "outputs": [
        {
          "output_type": "execute_result",
          "data": {
            "text/plain": [
              "array(['Jon', 'Jonathan', 'Jonny', 'John'], dtype='<U20')"
            ]
          },
          "metadata": {},
          "execution_count": 33
        }
      ]
    },
    {
      "cell_type": "code",
      "metadata": {
        "colab": {
          "base_uri": "https://localhost:8080/"
        },
        "id": "r4k-JMWmDZQr",
        "outputId": "77535f4e-0879-4119-d454-8a5891789e4b"
      },
      "source": [
        "data[:4] # Simple way to do less than 105"
      ],
      "execution_count": 34,
      "outputs": [
        {
          "output_type": "execute_result",
          "data": {
            "text/plain": [
              "array([('5/12', 25., 101, 'Jon'), ('3/12', 45., 102, 'Jonathan'),\n",
              "       ('3/13', 37., 103, 'Jonny'), ('3/4', 19., 104, 'John')],\n",
              "      dtype=[('OrderDate', '<U8'), ('OrderAmount', '<f8'), ('OrderNumber', '<i4'), ('OrderName', '<U20')])"
            ]
          },
          "metadata": {},
          "execution_count": 34
        }
      ]
    },
    {
      "cell_type": "markdown",
      "metadata": {
        "id": "5UilspUY2_Gu"
      },
      "source": [
        "5. Using the code snippet below, fill-in the cell to generate the array as shown at the bottom. \n",
        "- You will need to use fancy indexing and masking. \n",
        "- Select rows with indices 0, 3, 4, 6, 7\n",
        "- Use column masking to return every other columns. The first column will be returned, 2nd column will not and so on. "
      ]
    },
    {
      "cell_type": "code",
      "metadata": {
        "id": "dhQOL1RI2_Gu"
      },
      "source": [
        "import numpy as np\n",
        "\n",
        "rng = np.random.RandomState(0)\n",
        "x = rng.randint(10, size=(10, 10))"
      ],
      "execution_count": 35,
      "outputs": []
    },
    {
      "cell_type": "code",
      "metadata": {
        "colab": {
          "base_uri": "https://localhost:8080/"
        },
        "id": "sjZrBtk72_Gw",
        "outputId": "e417efca-fd94-441a-88aa-6066fdab5604"
      },
      "source": [
        "x"
      ],
      "execution_count": 36,
      "outputs": [
        {
          "output_type": "execute_result",
          "data": {
            "text/plain": [
              "array([[5, 0, 3, 3, 7, 9, 3, 5, 2, 4],\n",
              "       [7, 6, 8, 8, 1, 6, 7, 7, 8, 1],\n",
              "       [5, 9, 8, 9, 4, 3, 0, 3, 5, 0],\n",
              "       [2, 3, 8, 1, 3, 3, 3, 7, 0, 1],\n",
              "       [9, 9, 0, 4, 7, 3, 2, 7, 2, 0],\n",
              "       [0, 4, 5, 5, 6, 8, 4, 1, 4, 9],\n",
              "       [8, 1, 1, 7, 9, 9, 3, 6, 7, 2],\n",
              "       [0, 3, 5, 9, 4, 4, 6, 4, 4, 3],\n",
              "       [4, 4, 8, 4, 3, 7, 5, 5, 0, 1],\n",
              "       [5, 9, 3, 0, 5, 0, 1, 2, 4, 2]])"
            ]
          },
          "metadata": {},
          "execution_count": 36
        }
      ]
    },
    {
      "cell_type": "code",
      "metadata": {
        "colab": {
          "base_uri": "https://localhost:8080/"
        },
        "id": "sGRp_s_H9dSg",
        "outputId": "1b9e1468-c81b-490e-b2f3-145f9acc187e"
      },
      "source": [
        " New_Cols=x[:,0::2] # Index every other row\n",
        " New_Cols"
      ],
      "execution_count": 37,
      "outputs": [
        {
          "output_type": "execute_result",
          "data": {
            "text/plain": [
              "array([[5, 3, 7, 3, 2],\n",
              "       [7, 8, 1, 7, 8],\n",
              "       [5, 8, 4, 0, 5],\n",
              "       [2, 8, 3, 3, 0],\n",
              "       [9, 0, 7, 2, 2],\n",
              "       [0, 5, 6, 4, 4],\n",
              "       [8, 1, 9, 3, 7],\n",
              "       [0, 5, 4, 6, 4],\n",
              "       [4, 8, 3, 5, 0],\n",
              "       [5, 3, 5, 1, 4]])"
            ]
          },
          "metadata": {},
          "execution_count": 37
        }
      ]
    },
    {
      "cell_type": "code",
      "metadata": {
        "colab": {
          "base_uri": "https://localhost:8080/"
        },
        "id": "O5aAxjX8GWR9",
        "outputId": "aee20b91-e76c-4337-df9a-c964ed46e3e8"
      },
      "source": [
        "row_idx = np.array([0, 3, 4,6,7]) # Index with new variable, using this code for the rows\n",
        "New_Cols[row_idx[:, None]]"
      ],
      "execution_count": 38,
      "outputs": [
        {
          "output_type": "execute_result",
          "data": {
            "text/plain": [
              "array([[[5, 3, 7, 3, 2]],\n",
              "\n",
              "       [[2, 8, 3, 3, 0]],\n",
              "\n",
              "       [[9, 0, 7, 2, 2]],\n",
              "\n",
              "       [[8, 1, 9, 3, 7]],\n",
              "\n",
              "       [[0, 5, 4, 6, 4]]])"
            ]
          },
          "metadata": {},
          "execution_count": 38
        }
      ]
    },
    {
      "cell_type": "code",
      "metadata": {
        "id": "7645kFoD2_Gy"
      },
      "source": [
        "# Provide your answer here. This is a identical array of the output from the assignment intially. "
      ],
      "execution_count": 39,
      "outputs": []
    }
  ]
}