{
  "nbformat": 4,
  "nbformat_minor": 0,
  "metadata": {
    "colab": {
      "name": "hw_3_rius_jonathan.ipynb",
      "provenance": [],
      "collapsed_sections": [],
      "authorship_tag": "ABX9TyM6rE7ASnfh9BS23N6fxuvl",
      "include_colab_link": true
    },
    "kernelspec": {
      "name": "python3",
      "display_name": "Python 3"
    },
    "language_info": {
      "name": "python"
    }
  },
  "cells": [
    {
      "cell_type": "markdown",
      "metadata": {
        "id": "view-in-github",
        "colab_type": "text"
      },
      "source": [
        "<a href=\"https://colab.research.google.com/github/jonnie763/DATA-690-Data-Structures-and-Algorithms/blob/main/hw_3_rius_jonathan.ipynb\" target=\"_parent\"><img src=\"https://colab.research.google.com/assets/colab-badge.svg\" alt=\"Open In Colab\"/></a>"
      ]
    },
    {
      "cell_type": "markdown",
      "metadata": {
        "id": "jotcldJj_7C1"
      },
      "source": [
        "Create a new module that has:\n",
        "\n",
        "myFibonacci() function that implements Fibonacci series using recursion. Refer to the text book, lecture slides and Jupyter notebook.\n",
        "\n",
        "\n",
        "When the module is imported, set a global variable that is used to count the number of recursions function makes. \n",
        "\n",
        "printNumRecursions() function to return the number of total recursions made in myFibonacci() function\n",
        "\n",
        "Modify applyToEach() to use Python map() function\n",
        "\n",
        "\n",
        "Submit the Jupyter notebook via Blackboard. "
      ]
    },
    {
      "cell_type": "markdown",
      "metadata": {
        "id": "J8DaGNet6dQd"
      },
      "source": [
        "##**1. Use myFibonacci() function that implements Fibonacci series using recursion. Refer to the text book, lecture slides and Jupyter notebook.**"
      ]
    },
    {
      "cell_type": "code",
      "metadata": {
        "colab": {
          "base_uri": "https://localhost:8080/"
        },
        "id": "aN4e4AqD2Pme",
        "outputId": "e09826ab-28b9-4b81-9807-8757d0342b39"
      },
      "source": [
        "# Program to generate the Fibonacci sequence using recursion\n",
        "\n",
        "def myFibonacci(length): # Define function to be used later for a module \n",
        "    if(length <= 1):\n",
        "        return length                                          # Return nothing \n",
        "    else:\n",
        "        return (myFibonacci(length-1) + myFibonacci(length-2)) # Take the first length inputed by user minus one then add length minus 2 \n",
        "\n",
        "length = int(input(\"Enter number of terms:\")) # User inputs the length of the sequence \n",
        "\n",
        "print(\" The Fibonacci sequence using Recursion :\")\n",
        "\n",
        "\n",
        "for iter in range(length):                  # For loop to show the entire sequence \n",
        "    print(myFibonacci(iter))"
      ],
      "execution_count": 1,
      "outputs": [
        {
          "output_type": "stream",
          "name": "stdout",
          "text": [
            "Enter number of terms:6\n",
            " The Fibonacci sequence using Recursion :\n",
            "0\n",
            "1\n",
            "1\n",
            "2\n",
            "3\n",
            "5\n"
          ]
        }
      ]
    },
    {
      "cell_type": "code",
      "metadata": {
        "colab": {
          "base_uri": "https://localhost:8080/"
        },
        "id": "gHXYCOf508sV",
        "outputId": "78cd9a63-4506-4594-8e4e-a59be4f4f49a"
      },
      "source": [
        "%%writefile data690modFib.py \n",
        "\n",
        "# Program to generate the Fibonacci sequence using recursion, also will use a module to call the function later \n",
        "\n",
        "def myFibonacci(length):\n",
        "    if(length <= 1):\n",
        "        return length\n",
        "    else:\n",
        "        return (myFibonacci(length-1) + myFibonacci(length-2))\n",
        "\n",
        "length = int(input(\"Enter number of terms:\"))\n",
        "\n",
        "print(\"Fibonacci sequence using Recursion :\")\n",
        "\n",
        "for iter in range(length):\n",
        "    print(myFibonacci(iter))"
      ],
      "execution_count": 2,
      "outputs": [
        {
          "output_type": "stream",
          "name": "stdout",
          "text": [
            "Overwriting data690modFib.py\n"
          ]
        }
      ]
    },
    {
      "cell_type": "code",
      "metadata": {
        "colab": {
          "base_uri": "https://localhost:8080/"
        },
        "id": "oJx7dHOl1FD1",
        "outputId": "5e255bc6-d09d-4d87-ff5d-500e42f56bc7"
      },
      "source": [
        "!cat data690modFib.py # See if function is in modules, it is "
      ],
      "execution_count": 3,
      "outputs": [
        {
          "output_type": "stream",
          "name": "stdout",
          "text": [
            "\n",
            "# Program to generate the Fibonacci sequence using recursion, also will use a module to call the function later \n",
            "\n",
            "def myFibonacci(length):\n",
            "    if(length <= 1):\n",
            "        return length\n",
            "    else:\n",
            "        return (myFibonacci(length-1) + myFibonacci(length-2))\n",
            "\n",
            "length = int(input(\"Enter number of terms:\"))\n",
            "\n",
            "print(\"Fibonacci sequence using Recursion :\")\n",
            "\n",
            "for iter in range(length):\n",
            "    print(myFibonacci(iter))"
          ]
        }
      ]
    },
    {
      "cell_type": "code",
      "metadata": {
        "colab": {
          "base_uri": "https://localhost:8080/"
        },
        "id": "rsz9tXiS1K8H",
        "outputId": "b9b8008b-c121-4197-996a-b8657d906287"
      },
      "source": [
        "import data690modFib # Import, does work, if it doesn't work restart the runtime and it should work from there "
      ],
      "execution_count": 4,
      "outputs": [
        {
          "output_type": "stream",
          "name": "stdout",
          "text": [
            "Enter number of terms:6\n",
            "Fibonacci sequence using Recursion :\n",
            "0\n",
            "1\n",
            "1\n",
            "2\n",
            "3\n",
            "5\n"
          ]
        }
      ]
    },
    {
      "cell_type": "markdown",
      "metadata": {
        "id": "lR8g0VsX68Lk"
      },
      "source": [
        "##**2. When the module is imported, set a global variable that is used to count the number of recursions the function makes. Use printNumRecursions() function to return the number of total recursions made in myFibonacci() function.**"
      ]
    },
    {
      "cell_type": "code",
      "metadata": {
        "colab": {
          "base_uri": "https://localhost:8080/"
        },
        "id": "Gs29TenWUXa0",
        "outputId": "704a96eb-6c00-41d7-c632-806c14480a64"
      },
      "source": [
        "help(data690modFib) # Use this to determine length "
      ],
      "execution_count": 5,
      "outputs": [
        {
          "output_type": "stream",
          "name": "stdout",
          "text": [
            "Help on module data690modFib:\n",
            "\n",
            "NAME\n",
            "    data690modFib - # Program to generate the Fibonacci sequence using recursion, also will use a module to call the function later\n",
            "\n",
            "FUNCTIONS\n",
            "    myFibonacci(length)\n",
            "\n",
            "DATA\n",
            "    iter = 5\n",
            "    length = 6\n",
            "\n",
            "FILE\n",
            "    /content/data690modFib.py\n",
            "\n",
            "\n"
          ]
        }
      ]
    },
    {
      "cell_type": "code",
      "metadata": {
        "colab": {
          "base_uri": "https://localhost:8080/"
        },
        "id": "vubtIlTiV5Ts",
        "outputId": "d30020b0-3077-4058-a94f-b3952a23e050"
      },
      "source": [
        "length = int(input(\"Enter length from DATA above:\")) # User input for length \n",
        "\n",
        "converted_num= str(length) # Needs to convert to int \n",
        "\n",
        "def printNumRecursions(): # Define function \n",
        "\n",
        "  global x\n",
        "\n",
        "  x = converted_num\n",
        "\n",
        "  return print (\"The total number of recursions in the myFibonacci function is\", x) # Print number of recursions \n",
        "\n",
        "\n",
        "printNumRecursions() # Utilize function \n"
      ],
      "execution_count": 6,
      "outputs": [
        {
          "output_type": "stream",
          "name": "stdout",
          "text": [
            "Enter length from DATA above:6\n",
            "The total number of recursions in the myFibonacci function is 6\n"
          ]
        }
      ]
    },
    {
      "cell_type": "markdown",
      "metadata": {
        "id": "O2XRDvmlay71"
      },
      "source": [
        "##**3.Modify applyToEach() to use Python map() function**"
      ]
    },
    {
      "cell_type": "code",
      "metadata": {
        "colab": {
          "base_uri": "https://localhost:8080/"
        },
        "id": "vF9wMm-sa5yR",
        "outputId": "2917ddd0-9b25-4539-ed8b-690caf47b614"
      },
      "source": [
        "def applytoEach(number):  # applytoEach and then use map function \n",
        "  return number ** .5     # Square root several numbers \n",
        "\n",
        "for i in map(applytoEach, [1, 4, 9,16,25]): # apply five numbers \n",
        "    num1 = int(i)                           # Turn into integers \n",
        "    print(num1)                             # Prints integers \n",
        "\n",
        "print ( \"These are the first five numbers that can square rooted\") # Chose these numbers specifically "
      ],
      "execution_count": 7,
      "outputs": [
        {
          "output_type": "stream",
          "name": "stdout",
          "text": [
            "1\n",
            "2\n",
            "3\n",
            "4\n",
            "5\n",
            "These are the first five numbers that can square rooted\n"
          ]
        }
      ]
    }
  ]
}