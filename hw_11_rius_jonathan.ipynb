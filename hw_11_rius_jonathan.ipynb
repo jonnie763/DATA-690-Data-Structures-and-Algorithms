{
  "nbformat": 4,
  "nbformat_minor": 0,
  "metadata": {
    "colab": {
      "name": "hw_11_rius_jonathan.ipynb",
      "provenance": [],
      "collapsed_sections": [],
      "toc_visible": true,
      "authorship_tag": "ABX9TyOuSayyFSrEV4VwlnkVLqZY",
      "include_colab_link": true
    },
    "kernelspec": {
      "name": "python3",
      "display_name": "Python 3"
    },
    "language_info": {
      "name": "python"
    }
  },
  "cells": [
    {
      "cell_type": "markdown",
      "metadata": {
        "id": "view-in-github",
        "colab_type": "text"
      },
      "source": [
        "<a href=\"https://colab.research.google.com/github/jonnie763/DATA-690-Data-Structures-and-Algorithms/blob/main/hw_11_rius_jonathan.ipynb\" target=\"_parent\"><img src=\"https://colab.research.google.com/assets/colab-badge.svg\" alt=\"Open In Colab\"/></a>"
      ]
    },
    {
      "cell_type": "markdown",
      "metadata": {
        "id": "p4C0tgZN_v5B"
      },
      "source": [
        "Do the following for your assignment:\n",
        "Create a list of Pandas Series\n",
        "\"first_name\": [\"jane\", \"john\", \"jasmine\", \"teddy\", \"megan\", \"jeffrey\", \"edward\", \"jaime\"]\n",
        "\"last_name\": [\"olsen\", \"Totti\", \"kennedy\", \"roosevelt\", \"fox\", \"bridges\", \"scissorhand\", \"cox\"]\n",
        "\"age\": [34, 28, 13, 45, 51, 36, 18, 65]\n",
        "\n",
        "Create a new DataFrame named customer using the above list of Pandas Series\n",
        "The column names will come from the keys above (\"first_name\", \"last_name\", \"age).\n",
        "\n",
        "Use the following selection and indexing techniques to create new DataFrames\n",
        "\n",
        "Using masking, select list of customers who are between 20 and 35 in age\n",
        "\n",
        "**Using slicing, select every other row.**\n",
        "\n",
        "**Using fancy indexing, create a new DataFrame with only \"last_name\" and \"age\" columns**\n",
        "\n",
        "Using implicit indexing attribute and slicing, create a new DataFrame with indices between 2 and 5.\n",
        "\n",
        "Create a new DataFrame named customer_amount_nan  by add another Pandas Series with following data (in addition to the list of series from above)\n",
        "\"total_sales\": [32.10, 50.80, 13.00, 98.21, NaN, 0.50, None, 77.01]\n",
        "\n",
        "Using forward fill, fill the missing values\n",
        "\n",
        "Using backward fill, fill the missing values\n",
        "\n",
        "Fill the missing values with value of 0.00"
      ]
    },
    {
      "cell_type": "markdown",
      "metadata": {
        "id": "y0UYL2w-SxxL"
      },
      "source": [
        "## 1. Creating the Dataframe from the Pandas Series. "
      ]
    },
    {
      "cell_type": "code",
      "metadata": {
        "colab": {
          "base_uri": "https://localhost:8080/",
          "height": 297
        },
        "id": "kh1C06HA_LuW",
        "outputId": "751a7193-546f-483d-830c-fcb72eb09ea7"
      },
      "source": [
        "import pandas as pd\n",
        "import matplotlib.pyplot as plt\n",
        "  \n",
        "first_name = [\"jane\", \"john\", \"jasmine\", \"teddy\", \"megan\", \"jeffrey\", \"edward\", \"jaime\"] # Creating the data frames manually \n",
        "\n",
        "last_name = [\"olsen\", \"Totti\", \"kennedy\", \"roosevelt\", \"fox\", \"bridges\", \"scissorhand\", \"cox\"]\n",
        "\n",
        "age= [34,28,13,45,51,36,18,65]\n",
        "  \n",
        "age_series = pd.Series(age) # Creating the Series \n",
        "\n",
        "fname_series = pd.Series(first_name)\n",
        "\n",
        "lname_series = pd.Series(last_name)\n",
        "  \n",
        "frame = { 'Age': age_series, 'First Name': fname_series, 'Last Name':lname_series} # Converting the series to dataframes \n",
        "  \n",
        "result = pd.DataFrame(frame)\n",
        "  \n",
        "result"
      ],
      "execution_count": 11,
      "outputs": [
        {
          "output_type": "execute_result",
          "data": {
            "text/html": [
              "<div>\n",
              "<style scoped>\n",
              "    .dataframe tbody tr th:only-of-type {\n",
              "        vertical-align: middle;\n",
              "    }\n",
              "\n",
              "    .dataframe tbody tr th {\n",
              "        vertical-align: top;\n",
              "    }\n",
              "\n",
              "    .dataframe thead th {\n",
              "        text-align: right;\n",
              "    }\n",
              "</style>\n",
              "<table border=\"1\" class=\"dataframe\">\n",
              "  <thead>\n",
              "    <tr style=\"text-align: right;\">\n",
              "      <th></th>\n",
              "      <th>Age</th>\n",
              "      <th>First Name</th>\n",
              "      <th>Last Name</th>\n",
              "    </tr>\n",
              "  </thead>\n",
              "  <tbody>\n",
              "    <tr>\n",
              "      <th>0</th>\n",
              "      <td>34</td>\n",
              "      <td>jane</td>\n",
              "      <td>olsen</td>\n",
              "    </tr>\n",
              "    <tr>\n",
              "      <th>1</th>\n",
              "      <td>28</td>\n",
              "      <td>john</td>\n",
              "      <td>Totti</td>\n",
              "    </tr>\n",
              "    <tr>\n",
              "      <th>2</th>\n",
              "      <td>13</td>\n",
              "      <td>jasmine</td>\n",
              "      <td>kennedy</td>\n",
              "    </tr>\n",
              "    <tr>\n",
              "      <th>3</th>\n",
              "      <td>45</td>\n",
              "      <td>teddy</td>\n",
              "      <td>roosevelt</td>\n",
              "    </tr>\n",
              "    <tr>\n",
              "      <th>4</th>\n",
              "      <td>51</td>\n",
              "      <td>megan</td>\n",
              "      <td>fox</td>\n",
              "    </tr>\n",
              "    <tr>\n",
              "      <th>5</th>\n",
              "      <td>36</td>\n",
              "      <td>jeffrey</td>\n",
              "      <td>bridges</td>\n",
              "    </tr>\n",
              "    <tr>\n",
              "      <th>6</th>\n",
              "      <td>18</td>\n",
              "      <td>edward</td>\n",
              "      <td>scissorhand</td>\n",
              "    </tr>\n",
              "    <tr>\n",
              "      <th>7</th>\n",
              "      <td>65</td>\n",
              "      <td>jaime</td>\n",
              "      <td>cox</td>\n",
              "    </tr>\n",
              "  </tbody>\n",
              "</table>\n",
              "</div>"
            ],
            "text/plain": [
              "   Age First Name    Last Name\n",
              "0   34       jane        olsen\n",
              "1   28       john        Totti\n",
              "2   13    jasmine      kennedy\n",
              "3   45      teddy    roosevelt\n",
              "4   51      megan          fox\n",
              "5   36    jeffrey      bridges\n",
              "6   18     edward  scissorhand\n",
              "7   65      jaime          cox"
            ]
          },
          "metadata": {},
          "execution_count": 11
        }
      ]
    },
    {
      "cell_type": "markdown",
      "metadata": {
        "id": "xXZ9nAOwTZMH"
      },
      "source": [
        "## 2. Include only a range of ages using masking. "
      ]
    },
    {
      "cell_type": "code",
      "metadata": {
        "colab": {
          "base_uri": "https://localhost:8080/",
          "height": 297
        },
        "id": "SnxE7LL_DE_j",
        "outputId": "806c7a3d-1fbe-44c7-8f20-f6e60b121ee7"
      },
      "source": [
        "result_index=result.drop(columns=['First Name', 'Last Name']) # The code below will not work unless you only include columns with integers\n",
        "\n",
        "result_index[(result_index> 20) & (result_index < 35)] # Can figure out consumer names by slicing and using code result[0:2] "
      ],
      "execution_count": 12,
      "outputs": [
        {
          "output_type": "execute_result",
          "data": {
            "text/html": [
              "<div>\n",
              "<style scoped>\n",
              "    .dataframe tbody tr th:only-of-type {\n",
              "        vertical-align: middle;\n",
              "    }\n",
              "\n",
              "    .dataframe tbody tr th {\n",
              "        vertical-align: top;\n",
              "    }\n",
              "\n",
              "    .dataframe thead th {\n",
              "        text-align: right;\n",
              "    }\n",
              "</style>\n",
              "<table border=\"1\" class=\"dataframe\">\n",
              "  <thead>\n",
              "    <tr style=\"text-align: right;\">\n",
              "      <th></th>\n",
              "      <th>Age</th>\n",
              "    </tr>\n",
              "  </thead>\n",
              "  <tbody>\n",
              "    <tr>\n",
              "      <th>0</th>\n",
              "      <td>34.0</td>\n",
              "    </tr>\n",
              "    <tr>\n",
              "      <th>1</th>\n",
              "      <td>28.0</td>\n",
              "    </tr>\n",
              "    <tr>\n",
              "      <th>2</th>\n",
              "      <td>NaN</td>\n",
              "    </tr>\n",
              "    <tr>\n",
              "      <th>3</th>\n",
              "      <td>NaN</td>\n",
              "    </tr>\n",
              "    <tr>\n",
              "      <th>4</th>\n",
              "      <td>NaN</td>\n",
              "    </tr>\n",
              "    <tr>\n",
              "      <th>5</th>\n",
              "      <td>NaN</td>\n",
              "    </tr>\n",
              "    <tr>\n",
              "      <th>6</th>\n",
              "      <td>NaN</td>\n",
              "    </tr>\n",
              "    <tr>\n",
              "      <th>7</th>\n",
              "      <td>NaN</td>\n",
              "    </tr>\n",
              "  </tbody>\n",
              "</table>\n",
              "</div>"
            ],
            "text/plain": [
              "    Age\n",
              "0  34.0\n",
              "1  28.0\n",
              "2   NaN\n",
              "3   NaN\n",
              "4   NaN\n",
              "5   NaN\n",
              "6   NaN\n",
              "7   NaN"
            ]
          },
          "metadata": {},
          "execution_count": 12
        }
      ]
    },
    {
      "cell_type": "markdown",
      "metadata": {
        "id": "zuTULhlzTkmz"
      },
      "source": [
        "## 3. Using slicing, select every other row."
      ]
    },
    {
      "cell_type": "code",
      "metadata": {
        "id": "cc4EqIjIE5sZ",
        "colab": {
          "base_uri": "https://localhost:8080/",
          "height": 173
        },
        "outputId": "ca318853-d958-44cd-daa0-db2a357839ec"
      },
      "source": [
        "result.iloc[[1, 3, 5,7]] # Explicit slice by choosing every other row ( all odd rows)"
      ],
      "execution_count": 13,
      "outputs": [
        {
          "output_type": "execute_result",
          "data": {
            "text/html": [
              "<div>\n",
              "<style scoped>\n",
              "    .dataframe tbody tr th:only-of-type {\n",
              "        vertical-align: middle;\n",
              "    }\n",
              "\n",
              "    .dataframe tbody tr th {\n",
              "        vertical-align: top;\n",
              "    }\n",
              "\n",
              "    .dataframe thead th {\n",
              "        text-align: right;\n",
              "    }\n",
              "</style>\n",
              "<table border=\"1\" class=\"dataframe\">\n",
              "  <thead>\n",
              "    <tr style=\"text-align: right;\">\n",
              "      <th></th>\n",
              "      <th>Age</th>\n",
              "      <th>First Name</th>\n",
              "      <th>Last Name</th>\n",
              "    </tr>\n",
              "  </thead>\n",
              "  <tbody>\n",
              "    <tr>\n",
              "      <th>1</th>\n",
              "      <td>28</td>\n",
              "      <td>john</td>\n",
              "      <td>Totti</td>\n",
              "    </tr>\n",
              "    <tr>\n",
              "      <th>3</th>\n",
              "      <td>45</td>\n",
              "      <td>teddy</td>\n",
              "      <td>roosevelt</td>\n",
              "    </tr>\n",
              "    <tr>\n",
              "      <th>5</th>\n",
              "      <td>36</td>\n",
              "      <td>jeffrey</td>\n",
              "      <td>bridges</td>\n",
              "    </tr>\n",
              "    <tr>\n",
              "      <th>7</th>\n",
              "      <td>65</td>\n",
              "      <td>jaime</td>\n",
              "      <td>cox</td>\n",
              "    </tr>\n",
              "  </tbody>\n",
              "</table>\n",
              "</div>"
            ],
            "text/plain": [
              "   Age First Name  Last Name\n",
              "1   28       john      Totti\n",
              "3   45      teddy  roosevelt\n",
              "5   36    jeffrey    bridges\n",
              "7   65      jaime        cox"
            ]
          },
          "metadata": {},
          "execution_count": 13
        }
      ]
    },
    {
      "cell_type": "markdown",
      "metadata": {
        "id": "os7Wv1siTrwn"
      },
      "source": [
        "## 4. Using fancy indexing, create a new DataFrame with only \"last_name\" and \"age\" columns."
      ]
    },
    {
      "cell_type": "code",
      "metadata": {
        "id": "473GogNnIe64",
        "colab": {
          "base_uri": "https://localhost:8080/",
          "height": 297
        },
        "outputId": "de526152-20a1-42b7-ca24-6ddff69fdcd2"
      },
      "source": [
        "df1 = result[['Age','Last Name']] # Selected rows are last name and age\n",
        "df1"
      ],
      "execution_count": 14,
      "outputs": [
        {
          "output_type": "execute_result",
          "data": {
            "text/html": [
              "<div>\n",
              "<style scoped>\n",
              "    .dataframe tbody tr th:only-of-type {\n",
              "        vertical-align: middle;\n",
              "    }\n",
              "\n",
              "    .dataframe tbody tr th {\n",
              "        vertical-align: top;\n",
              "    }\n",
              "\n",
              "    .dataframe thead th {\n",
              "        text-align: right;\n",
              "    }\n",
              "</style>\n",
              "<table border=\"1\" class=\"dataframe\">\n",
              "  <thead>\n",
              "    <tr style=\"text-align: right;\">\n",
              "      <th></th>\n",
              "      <th>Age</th>\n",
              "      <th>Last Name</th>\n",
              "    </tr>\n",
              "  </thead>\n",
              "  <tbody>\n",
              "    <tr>\n",
              "      <th>0</th>\n",
              "      <td>34</td>\n",
              "      <td>olsen</td>\n",
              "    </tr>\n",
              "    <tr>\n",
              "      <th>1</th>\n",
              "      <td>28</td>\n",
              "      <td>Totti</td>\n",
              "    </tr>\n",
              "    <tr>\n",
              "      <th>2</th>\n",
              "      <td>13</td>\n",
              "      <td>kennedy</td>\n",
              "    </tr>\n",
              "    <tr>\n",
              "      <th>3</th>\n",
              "      <td>45</td>\n",
              "      <td>roosevelt</td>\n",
              "    </tr>\n",
              "    <tr>\n",
              "      <th>4</th>\n",
              "      <td>51</td>\n",
              "      <td>fox</td>\n",
              "    </tr>\n",
              "    <tr>\n",
              "      <th>5</th>\n",
              "      <td>36</td>\n",
              "      <td>bridges</td>\n",
              "    </tr>\n",
              "    <tr>\n",
              "      <th>6</th>\n",
              "      <td>18</td>\n",
              "      <td>scissorhand</td>\n",
              "    </tr>\n",
              "    <tr>\n",
              "      <th>7</th>\n",
              "      <td>65</td>\n",
              "      <td>cox</td>\n",
              "    </tr>\n",
              "  </tbody>\n",
              "</table>\n",
              "</div>"
            ],
            "text/plain": [
              "   Age    Last Name\n",
              "0   34        olsen\n",
              "1   28        Totti\n",
              "2   13      kennedy\n",
              "3   45    roosevelt\n",
              "4   51          fox\n",
              "5   36      bridges\n",
              "6   18  scissorhand\n",
              "7   65          cox"
            ]
          },
          "metadata": {},
          "execution_count": 14
        }
      ]
    },
    {
      "cell_type": "markdown",
      "metadata": {
        "id": "pizTaXz-T99n"
      },
      "source": [
        "## 5. Using implicit indexing attribute and slicing, create a new DataFrame with indices between 2 and 5."
      ]
    },
    {
      "cell_type": "code",
      "metadata": {
        "colab": {
          "base_uri": "https://localhost:8080/",
          "height": 142
        },
        "id": "B_MYZWkQKc6Y",
        "outputId": "2f7f67c5-9836-4cc7-9587-6fc2a6c1afbd"
      },
      "source": [
        "result[2:5] # Implict indexing integer "
      ],
      "execution_count": 15,
      "outputs": [
        {
          "output_type": "execute_result",
          "data": {
            "text/html": [
              "<div>\n",
              "<style scoped>\n",
              "    .dataframe tbody tr th:only-of-type {\n",
              "        vertical-align: middle;\n",
              "    }\n",
              "\n",
              "    .dataframe tbody tr th {\n",
              "        vertical-align: top;\n",
              "    }\n",
              "\n",
              "    .dataframe thead th {\n",
              "        text-align: right;\n",
              "    }\n",
              "</style>\n",
              "<table border=\"1\" class=\"dataframe\">\n",
              "  <thead>\n",
              "    <tr style=\"text-align: right;\">\n",
              "      <th></th>\n",
              "      <th>Age</th>\n",
              "      <th>First Name</th>\n",
              "      <th>Last Name</th>\n",
              "    </tr>\n",
              "  </thead>\n",
              "  <tbody>\n",
              "    <tr>\n",
              "      <th>2</th>\n",
              "      <td>13</td>\n",
              "      <td>jasmine</td>\n",
              "      <td>kennedy</td>\n",
              "    </tr>\n",
              "    <tr>\n",
              "      <th>3</th>\n",
              "      <td>45</td>\n",
              "      <td>teddy</td>\n",
              "      <td>roosevelt</td>\n",
              "    </tr>\n",
              "    <tr>\n",
              "      <th>4</th>\n",
              "      <td>51</td>\n",
              "      <td>megan</td>\n",
              "      <td>fox</td>\n",
              "    </tr>\n",
              "  </tbody>\n",
              "</table>\n",
              "</div>"
            ],
            "text/plain": [
              "   Age First Name  Last Name\n",
              "2   13    jasmine    kennedy\n",
              "3   45      teddy  roosevelt\n",
              "4   51      megan        fox"
            ]
          },
          "metadata": {},
          "execution_count": 15
        }
      ]
    },
    {
      "cell_type": "code",
      "metadata": {
        "colab": {
          "base_uri": "https://localhost:8080/",
          "height": 173
        },
        "id": "1EryEOvJ9q7G",
        "outputId": "d6873c3e-113c-4487-b31f-fc7dd4b727d1"
      },
      "source": [
        "result[2:6] # Directions may have wanted this instead "
      ],
      "execution_count": 16,
      "outputs": [
        {
          "output_type": "execute_result",
          "data": {
            "text/html": [
              "<div>\n",
              "<style scoped>\n",
              "    .dataframe tbody tr th:only-of-type {\n",
              "        vertical-align: middle;\n",
              "    }\n",
              "\n",
              "    .dataframe tbody tr th {\n",
              "        vertical-align: top;\n",
              "    }\n",
              "\n",
              "    .dataframe thead th {\n",
              "        text-align: right;\n",
              "    }\n",
              "</style>\n",
              "<table border=\"1\" class=\"dataframe\">\n",
              "  <thead>\n",
              "    <tr style=\"text-align: right;\">\n",
              "      <th></th>\n",
              "      <th>Age</th>\n",
              "      <th>First Name</th>\n",
              "      <th>Last Name</th>\n",
              "    </tr>\n",
              "  </thead>\n",
              "  <tbody>\n",
              "    <tr>\n",
              "      <th>2</th>\n",
              "      <td>13</td>\n",
              "      <td>jasmine</td>\n",
              "      <td>kennedy</td>\n",
              "    </tr>\n",
              "    <tr>\n",
              "      <th>3</th>\n",
              "      <td>45</td>\n",
              "      <td>teddy</td>\n",
              "      <td>roosevelt</td>\n",
              "    </tr>\n",
              "    <tr>\n",
              "      <th>4</th>\n",
              "      <td>51</td>\n",
              "      <td>megan</td>\n",
              "      <td>fox</td>\n",
              "    </tr>\n",
              "    <tr>\n",
              "      <th>5</th>\n",
              "      <td>36</td>\n",
              "      <td>jeffrey</td>\n",
              "      <td>bridges</td>\n",
              "    </tr>\n",
              "  </tbody>\n",
              "</table>\n",
              "</div>"
            ],
            "text/plain": [
              "   Age First Name  Last Name\n",
              "2   13    jasmine    kennedy\n",
              "3   45      teddy  roosevelt\n",
              "4   51      megan        fox\n",
              "5   36    jeffrey    bridges"
            ]
          },
          "metadata": {},
          "execution_count": 16
        }
      ]
    },
    {
      "cell_type": "markdown",
      "metadata": {
        "id": "Mc6QGcHDUWaw"
      },
      "source": [
        "## 6. Create new dataframe and add in values. "
      ]
    },
    {
      "cell_type": "code",
      "metadata": {
        "colab": {
          "base_uri": "https://localhost:8080/",
          "height": 297
        },
        "id": "viFAlEJAK7BD",
        "outputId": "16877f72-f7c6-4b5c-b3a9-a6a5e21def8a"
      },
      "source": [
        "import pandas as pd\n",
        "import matplotlib.pyplot as plt\n",
        "import numpy as np\n",
        "  \n",
        "first_name = [\"jane\", \"john\", \"jasmine\", \"teddy\", \"megan\", \"jeffrey\", \"edward\", \"jaime\"] # Same procedure as first cell of code (with total sales)\n",
        "\n",
        "last_name = [\"olsen\", \"Totti\", \"kennedy\", \"roosevelt\", \"fox\", \"bridges\", \"scissorhand\", \"cox\"]\n",
        "\n",
        "total_sales=[32.10, 50.80, 13.00, 98.21, np.nan, 0.50, None, 77.01]\n",
        "\n",
        "age= [34,28,13,45,51,36,18,65]\n",
        "\n",
        "total_sales_series= pd.Series(total_sales)\n",
        "  \n",
        "age_series = pd.Series(age)\n",
        "\n",
        "fname_series = pd.Series(first_name)\n",
        "\n",
        "lname_series = pd.Series(last_name)\n",
        "  \n",
        "frame = { 'Age': age_series, 'First Name': fname_series, 'Last Name':lname_series,'Total Sale':total_sales_series}\n",
        "  \n",
        "result = pd.DataFrame(frame)\n",
        "  \n",
        "result"
      ],
      "execution_count": 17,
      "outputs": [
        {
          "output_type": "execute_result",
          "data": {
            "text/html": [
              "<div>\n",
              "<style scoped>\n",
              "    .dataframe tbody tr th:only-of-type {\n",
              "        vertical-align: middle;\n",
              "    }\n",
              "\n",
              "    .dataframe tbody tr th {\n",
              "        vertical-align: top;\n",
              "    }\n",
              "\n",
              "    .dataframe thead th {\n",
              "        text-align: right;\n",
              "    }\n",
              "</style>\n",
              "<table border=\"1\" class=\"dataframe\">\n",
              "  <thead>\n",
              "    <tr style=\"text-align: right;\">\n",
              "      <th></th>\n",
              "      <th>Age</th>\n",
              "      <th>First Name</th>\n",
              "      <th>Last Name</th>\n",
              "      <th>Total Sale</th>\n",
              "    </tr>\n",
              "  </thead>\n",
              "  <tbody>\n",
              "    <tr>\n",
              "      <th>0</th>\n",
              "      <td>34</td>\n",
              "      <td>jane</td>\n",
              "      <td>olsen</td>\n",
              "      <td>32.10</td>\n",
              "    </tr>\n",
              "    <tr>\n",
              "      <th>1</th>\n",
              "      <td>28</td>\n",
              "      <td>john</td>\n",
              "      <td>Totti</td>\n",
              "      <td>50.80</td>\n",
              "    </tr>\n",
              "    <tr>\n",
              "      <th>2</th>\n",
              "      <td>13</td>\n",
              "      <td>jasmine</td>\n",
              "      <td>kennedy</td>\n",
              "      <td>13.00</td>\n",
              "    </tr>\n",
              "    <tr>\n",
              "      <th>3</th>\n",
              "      <td>45</td>\n",
              "      <td>teddy</td>\n",
              "      <td>roosevelt</td>\n",
              "      <td>98.21</td>\n",
              "    </tr>\n",
              "    <tr>\n",
              "      <th>4</th>\n",
              "      <td>51</td>\n",
              "      <td>megan</td>\n",
              "      <td>fox</td>\n",
              "      <td>NaN</td>\n",
              "    </tr>\n",
              "    <tr>\n",
              "      <th>5</th>\n",
              "      <td>36</td>\n",
              "      <td>jeffrey</td>\n",
              "      <td>bridges</td>\n",
              "      <td>0.50</td>\n",
              "    </tr>\n",
              "    <tr>\n",
              "      <th>6</th>\n",
              "      <td>18</td>\n",
              "      <td>edward</td>\n",
              "      <td>scissorhand</td>\n",
              "      <td>NaN</td>\n",
              "    </tr>\n",
              "    <tr>\n",
              "      <th>7</th>\n",
              "      <td>65</td>\n",
              "      <td>jaime</td>\n",
              "      <td>cox</td>\n",
              "      <td>77.01</td>\n",
              "    </tr>\n",
              "  </tbody>\n",
              "</table>\n",
              "</div>"
            ],
            "text/plain": [
              "   Age First Name    Last Name  Total Sale\n",
              "0   34       jane        olsen       32.10\n",
              "1   28       john        Totti       50.80\n",
              "2   13    jasmine      kennedy       13.00\n",
              "3   45      teddy    roosevelt       98.21\n",
              "4   51      megan          fox         NaN\n",
              "5   36    jeffrey      bridges        0.50\n",
              "6   18     edward  scissorhand         NaN\n",
              "7   65      jaime          cox       77.01"
            ]
          },
          "metadata": {},
          "execution_count": 17
        }
      ]
    },
    {
      "cell_type": "code",
      "metadata": {
        "colab": {
          "base_uri": "https://localhost:8080/",
          "height": 297
        },
        "id": "YYE2EHWzMXg9",
        "outputId": "216b84d8-059a-460f-a8f2-377bd3557d4e"
      },
      "source": [
        "result.ffill(axis = 0) # Forward fill "
      ],
      "execution_count": 18,
      "outputs": [
        {
          "output_type": "execute_result",
          "data": {
            "text/html": [
              "<div>\n",
              "<style scoped>\n",
              "    .dataframe tbody tr th:only-of-type {\n",
              "        vertical-align: middle;\n",
              "    }\n",
              "\n",
              "    .dataframe tbody tr th {\n",
              "        vertical-align: top;\n",
              "    }\n",
              "\n",
              "    .dataframe thead th {\n",
              "        text-align: right;\n",
              "    }\n",
              "</style>\n",
              "<table border=\"1\" class=\"dataframe\">\n",
              "  <thead>\n",
              "    <tr style=\"text-align: right;\">\n",
              "      <th></th>\n",
              "      <th>Age</th>\n",
              "      <th>First Name</th>\n",
              "      <th>Last Name</th>\n",
              "      <th>Total Sale</th>\n",
              "    </tr>\n",
              "  </thead>\n",
              "  <tbody>\n",
              "    <tr>\n",
              "      <th>0</th>\n",
              "      <td>34</td>\n",
              "      <td>jane</td>\n",
              "      <td>olsen</td>\n",
              "      <td>32.10</td>\n",
              "    </tr>\n",
              "    <tr>\n",
              "      <th>1</th>\n",
              "      <td>28</td>\n",
              "      <td>john</td>\n",
              "      <td>Totti</td>\n",
              "      <td>50.80</td>\n",
              "    </tr>\n",
              "    <tr>\n",
              "      <th>2</th>\n",
              "      <td>13</td>\n",
              "      <td>jasmine</td>\n",
              "      <td>kennedy</td>\n",
              "      <td>13.00</td>\n",
              "    </tr>\n",
              "    <tr>\n",
              "      <th>3</th>\n",
              "      <td>45</td>\n",
              "      <td>teddy</td>\n",
              "      <td>roosevelt</td>\n",
              "      <td>98.21</td>\n",
              "    </tr>\n",
              "    <tr>\n",
              "      <th>4</th>\n",
              "      <td>51</td>\n",
              "      <td>megan</td>\n",
              "      <td>fox</td>\n",
              "      <td>98.21</td>\n",
              "    </tr>\n",
              "    <tr>\n",
              "      <th>5</th>\n",
              "      <td>36</td>\n",
              "      <td>jeffrey</td>\n",
              "      <td>bridges</td>\n",
              "      <td>0.50</td>\n",
              "    </tr>\n",
              "    <tr>\n",
              "      <th>6</th>\n",
              "      <td>18</td>\n",
              "      <td>edward</td>\n",
              "      <td>scissorhand</td>\n",
              "      <td>0.50</td>\n",
              "    </tr>\n",
              "    <tr>\n",
              "      <th>7</th>\n",
              "      <td>65</td>\n",
              "      <td>jaime</td>\n",
              "      <td>cox</td>\n",
              "      <td>77.01</td>\n",
              "    </tr>\n",
              "  </tbody>\n",
              "</table>\n",
              "</div>"
            ],
            "text/plain": [
              "   Age First Name    Last Name  Total Sale\n",
              "0   34       jane        olsen       32.10\n",
              "1   28       john        Totti       50.80\n",
              "2   13    jasmine      kennedy       13.00\n",
              "3   45      teddy    roosevelt       98.21\n",
              "4   51      megan          fox       98.21\n",
              "5   36    jeffrey      bridges        0.50\n",
              "6   18     edward  scissorhand        0.50\n",
              "7   65      jaime          cox       77.01"
            ]
          },
          "metadata": {},
          "execution_count": 18
        }
      ]
    },
    {
      "cell_type": "code",
      "metadata": {
        "colab": {
          "base_uri": "https://localhost:8080/",
          "height": 297
        },
        "id": "3hc7mtqpMwWi",
        "outputId": "84f66b77-a1f5-4896-b8db-df0c2e856ae7"
      },
      "source": [
        "result.bfill(axis ='rows') # Back fill"
      ],
      "execution_count": 19,
      "outputs": [
        {
          "output_type": "execute_result",
          "data": {
            "text/html": [
              "<div>\n",
              "<style scoped>\n",
              "    .dataframe tbody tr th:only-of-type {\n",
              "        vertical-align: middle;\n",
              "    }\n",
              "\n",
              "    .dataframe tbody tr th {\n",
              "        vertical-align: top;\n",
              "    }\n",
              "\n",
              "    .dataframe thead th {\n",
              "        text-align: right;\n",
              "    }\n",
              "</style>\n",
              "<table border=\"1\" class=\"dataframe\">\n",
              "  <thead>\n",
              "    <tr style=\"text-align: right;\">\n",
              "      <th></th>\n",
              "      <th>Age</th>\n",
              "      <th>First Name</th>\n",
              "      <th>Last Name</th>\n",
              "      <th>Total Sale</th>\n",
              "    </tr>\n",
              "  </thead>\n",
              "  <tbody>\n",
              "    <tr>\n",
              "      <th>0</th>\n",
              "      <td>34</td>\n",
              "      <td>jane</td>\n",
              "      <td>olsen</td>\n",
              "      <td>32.10</td>\n",
              "    </tr>\n",
              "    <tr>\n",
              "      <th>1</th>\n",
              "      <td>28</td>\n",
              "      <td>john</td>\n",
              "      <td>Totti</td>\n",
              "      <td>50.80</td>\n",
              "    </tr>\n",
              "    <tr>\n",
              "      <th>2</th>\n",
              "      <td>13</td>\n",
              "      <td>jasmine</td>\n",
              "      <td>kennedy</td>\n",
              "      <td>13.00</td>\n",
              "    </tr>\n",
              "    <tr>\n",
              "      <th>3</th>\n",
              "      <td>45</td>\n",
              "      <td>teddy</td>\n",
              "      <td>roosevelt</td>\n",
              "      <td>98.21</td>\n",
              "    </tr>\n",
              "    <tr>\n",
              "      <th>4</th>\n",
              "      <td>51</td>\n",
              "      <td>megan</td>\n",
              "      <td>fox</td>\n",
              "      <td>0.50</td>\n",
              "    </tr>\n",
              "    <tr>\n",
              "      <th>5</th>\n",
              "      <td>36</td>\n",
              "      <td>jeffrey</td>\n",
              "      <td>bridges</td>\n",
              "      <td>0.50</td>\n",
              "    </tr>\n",
              "    <tr>\n",
              "      <th>6</th>\n",
              "      <td>18</td>\n",
              "      <td>edward</td>\n",
              "      <td>scissorhand</td>\n",
              "      <td>77.01</td>\n",
              "    </tr>\n",
              "    <tr>\n",
              "      <th>7</th>\n",
              "      <td>65</td>\n",
              "      <td>jaime</td>\n",
              "      <td>cox</td>\n",
              "      <td>77.01</td>\n",
              "    </tr>\n",
              "  </tbody>\n",
              "</table>\n",
              "</div>"
            ],
            "text/plain": [
              "   Age First Name    Last Name  Total Sale\n",
              "0   34       jane        olsen       32.10\n",
              "1   28       john        Totti       50.80\n",
              "2   13    jasmine      kennedy       13.00\n",
              "3   45      teddy    roosevelt       98.21\n",
              "4   51      megan          fox        0.50\n",
              "5   36    jeffrey      bridges        0.50\n",
              "6   18     edward  scissorhand       77.01\n",
              "7   65      jaime          cox       77.01"
            ]
          },
          "metadata": {},
          "execution_count": 19
        }
      ]
    },
    {
      "cell_type": "code",
      "metadata": {
        "colab": {
          "base_uri": "https://localhost:8080/",
          "height": 297
        },
        "id": "1UkWBx2JMw8c",
        "outputId": "7dc7cb92-8128-495a-bc2b-85da47bcf9ae"
      },
      "source": [
        "result.fillna(0) # fill with zero"
      ],
      "execution_count": 20,
      "outputs": [
        {
          "output_type": "execute_result",
          "data": {
            "text/html": [
              "<div>\n",
              "<style scoped>\n",
              "    .dataframe tbody tr th:only-of-type {\n",
              "        vertical-align: middle;\n",
              "    }\n",
              "\n",
              "    .dataframe tbody tr th {\n",
              "        vertical-align: top;\n",
              "    }\n",
              "\n",
              "    .dataframe thead th {\n",
              "        text-align: right;\n",
              "    }\n",
              "</style>\n",
              "<table border=\"1\" class=\"dataframe\">\n",
              "  <thead>\n",
              "    <tr style=\"text-align: right;\">\n",
              "      <th></th>\n",
              "      <th>Age</th>\n",
              "      <th>First Name</th>\n",
              "      <th>Last Name</th>\n",
              "      <th>Total Sale</th>\n",
              "    </tr>\n",
              "  </thead>\n",
              "  <tbody>\n",
              "    <tr>\n",
              "      <th>0</th>\n",
              "      <td>34</td>\n",
              "      <td>jane</td>\n",
              "      <td>olsen</td>\n",
              "      <td>32.10</td>\n",
              "    </tr>\n",
              "    <tr>\n",
              "      <th>1</th>\n",
              "      <td>28</td>\n",
              "      <td>john</td>\n",
              "      <td>Totti</td>\n",
              "      <td>50.80</td>\n",
              "    </tr>\n",
              "    <tr>\n",
              "      <th>2</th>\n",
              "      <td>13</td>\n",
              "      <td>jasmine</td>\n",
              "      <td>kennedy</td>\n",
              "      <td>13.00</td>\n",
              "    </tr>\n",
              "    <tr>\n",
              "      <th>3</th>\n",
              "      <td>45</td>\n",
              "      <td>teddy</td>\n",
              "      <td>roosevelt</td>\n",
              "      <td>98.21</td>\n",
              "    </tr>\n",
              "    <tr>\n",
              "      <th>4</th>\n",
              "      <td>51</td>\n",
              "      <td>megan</td>\n",
              "      <td>fox</td>\n",
              "      <td>0.00</td>\n",
              "    </tr>\n",
              "    <tr>\n",
              "      <th>5</th>\n",
              "      <td>36</td>\n",
              "      <td>jeffrey</td>\n",
              "      <td>bridges</td>\n",
              "      <td>0.50</td>\n",
              "    </tr>\n",
              "    <tr>\n",
              "      <th>6</th>\n",
              "      <td>18</td>\n",
              "      <td>edward</td>\n",
              "      <td>scissorhand</td>\n",
              "      <td>0.00</td>\n",
              "    </tr>\n",
              "    <tr>\n",
              "      <th>7</th>\n",
              "      <td>65</td>\n",
              "      <td>jaime</td>\n",
              "      <td>cox</td>\n",
              "      <td>77.01</td>\n",
              "    </tr>\n",
              "  </tbody>\n",
              "</table>\n",
              "</div>"
            ],
            "text/plain": [
              "   Age First Name    Last Name  Total Sale\n",
              "0   34       jane        olsen       32.10\n",
              "1   28       john        Totti       50.80\n",
              "2   13    jasmine      kennedy       13.00\n",
              "3   45      teddy    roosevelt       98.21\n",
              "4   51      megan          fox        0.00\n",
              "5   36    jeffrey      bridges        0.50\n",
              "6   18     edward  scissorhand        0.00\n",
              "7   65      jaime          cox       77.01"
            ]
          },
          "metadata": {},
          "execution_count": 20
        }
      ]
    }
  ]
}