{
  "nbformat": 4,
  "nbformat_minor": 0,
  "metadata": {
    "kernelspec": {
      "display_name": "Python 3",
      "language": "python",
      "name": "python3"
    },
    "language_info": {
      "codemirror_mode": {
        "name": "ipython",
        "version": 3
      },
      "file_extension": ".py",
      "mimetype": "text/x-python",
      "name": "python",
      "nbconvert_exporter": "python",
      "pygments_lexer": "ipython3",
      "version": "3.6.8"
    },
    "colab": {
      "name": "hw_12_rius_jonathan.ipynb",
      "provenance": [],
      "collapsed_sections": [],
      "include_colab_link": true
    }
  },
  "cells": [
    {
      "cell_type": "markdown",
      "metadata": {
        "id": "view-in-github",
        "colab_type": "text"
      },
      "source": [
        "<a href=\"https://colab.research.google.com/github/jonnie763/DATA-690-Data-Structures-and-Algorithms/blob/main/hw_12_rius_jonathan.ipynb\" target=\"_parent\"><img src=\"https://colab.research.google.com/assets/colab-badge.svg\" alt=\"Open In Colab\"/></a>"
      ]
    },
    {
      "cell_type": "markdown",
      "metadata": {
        "id": "BjauvuKfXeJ6"
      },
      "source": [
        "NOTE: This assignment is adapted from: https://github.com/ajcr/100-pandas-puzzles/blob/master/100-pandas-puzzles.ipynb"
      ]
    },
    {
      "cell_type": "markdown",
      "metadata": {
        "id": "5dIg01e1XeJ8"
      },
      "source": [
        "1. Given a list of states = ['VA', 'MD', 'NY', 'NJ', 'TX'] and arbitrarary census data = list(range(10)), construct a MultiIndex object from the product of the two lists. Use it to index a ``Series`` of random numbers. Call this Series s.\n",
        "\n",
        "**Note you will have multiply indexed series with state name as the 1st level of index and census data (0 to 9) as the 2nd level index**"
      ]
    },
    {
      "cell_type": "code",
      "metadata": {
        "id": "DN7ED2jkXeJ8"
      },
      "source": [
        "import pandas as pd # Necessary Libraries \n",
        "import numpy as np\n",
        "import random"
      ],
      "execution_count": 2,
      "outputs": []
    },
    {
      "cell_type": "code",
      "metadata": {
        "colab": {
          "base_uri": "https://localhost:8080/"
        },
        "id": "7jdrPnCr4JIY",
        "outputId": "a36b9689-00b8-422b-a759-f9ccaa044d6a"
      },
      "source": [
        "states= ['VA','MD','NY','NJ']\n",
        "numbers = list(range(10))\n",
        "mi = pd.MultiIndex.from_product([states, numbers])\n",
        "s = pd.Series(np.random.rand(40), index=mi)\n",
        "s"
      ],
      "execution_count": 3,
      "outputs": [
        {
          "output_type": "execute_result",
          "data": {
            "text/plain": [
              "VA  0    0.416032\n",
              "    1    0.817367\n",
              "    2    0.886315\n",
              "    3    0.950252\n",
              "    4    0.196700\n",
              "    5    0.210110\n",
              "    6    0.224470\n",
              "    7    0.612943\n",
              "    8    0.206975\n",
              "    9    0.311997\n",
              "MD  0    0.439981\n",
              "    1    0.936799\n",
              "    2    0.296439\n",
              "    3    0.424686\n",
              "    4    0.508847\n",
              "    5    0.516678\n",
              "    6    0.587226\n",
              "    7    0.773015\n",
              "    8    0.100979\n",
              "    9    0.813310\n",
              "NY  0    0.592815\n",
              "    1    0.261478\n",
              "    2    0.338863\n",
              "    3    0.750685\n",
              "    4    0.552689\n",
              "    5    0.946104\n",
              "    6    0.397864\n",
              "    7    0.962165\n",
              "    8    0.427232\n",
              "    9    0.544830\n",
              "NJ  0    0.718018\n",
              "    1    0.792832\n",
              "    2    0.512986\n",
              "    3    0.907033\n",
              "    4    0.188438\n",
              "    5    0.122598\n",
              "    6    0.243690\n",
              "    7    0.670788\n",
              "    8    0.432609\n",
              "    9    0.365355\n",
              "dtype: float64"
            ]
          },
          "metadata": {},
          "execution_count": 3
        }
      ]
    },
    {
      "cell_type": "markdown",
      "metadata": {
        "id": "hpXz1NRFXeJ-"
      },
      "source": [
        "2. Check whether the index of s is lexicographically sorted. If not, apply sorting to ensure that you can use index slicing. "
      ]
    },
    {
      "cell_type": "code",
      "metadata": {
        "id": "Y3Dc7-aJXeJ_",
        "colab": {
          "base_uri": "https://localhost:8080/"
        },
        "outputId": "d94a486b-0d7e-4e97-a35d-d9fac4b611a8"
      },
      "source": [
        "s.index.is_lexsorted() # Need to Sort "
      ],
      "execution_count": 4,
      "outputs": [
        {
          "output_type": "execute_result",
          "data": {
            "text/plain": [
              "False"
            ]
          },
          "metadata": {},
          "execution_count": 4
        }
      ]
    },
    {
      "cell_type": "code",
      "metadata": {
        "colab": {
          "base_uri": "https://localhost:8080/"
        },
        "id": "uDi2pBqp_LuJ",
        "outputId": "5c279a64-ad99-4c7a-8e28-d5b96bcb1991"
      },
      "source": [
        "s=s.sort_index() # Sort to ensure slicing \n",
        "s"
      ],
      "execution_count": 5,
      "outputs": [
        {
          "output_type": "execute_result",
          "data": {
            "text/plain": [
              "MD  0    0.439981\n",
              "    1    0.936799\n",
              "    2    0.296439\n",
              "    3    0.424686\n",
              "    4    0.508847\n",
              "    5    0.516678\n",
              "    6    0.587226\n",
              "    7    0.773015\n",
              "    8    0.100979\n",
              "    9    0.813310\n",
              "NJ  0    0.718018\n",
              "    1    0.792832\n",
              "    2    0.512986\n",
              "    3    0.907033\n",
              "    4    0.188438\n",
              "    5    0.122598\n",
              "    6    0.243690\n",
              "    7    0.670788\n",
              "    8    0.432609\n",
              "    9    0.365355\n",
              "NY  0    0.592815\n",
              "    1    0.261478\n",
              "    2    0.338863\n",
              "    3    0.750685\n",
              "    4    0.552689\n",
              "    5    0.946104\n",
              "    6    0.397864\n",
              "    7    0.962165\n",
              "    8    0.427232\n",
              "    9    0.544830\n",
              "VA  0    0.416032\n",
              "    1    0.817367\n",
              "    2    0.886315\n",
              "    3    0.950252\n",
              "    4    0.196700\n",
              "    5    0.210110\n",
              "    6    0.224470\n",
              "    7    0.612943\n",
              "    8    0.206975\n",
              "    9    0.311997\n",
              "dtype: float64"
            ]
          },
          "metadata": {},
          "execution_count": 5
        }
      ]
    },
    {
      "cell_type": "markdown",
      "metadata": {
        "id": "UZCWThvmXeJ_"
      },
      "source": [
        "3. Select the labels 1, 3 and 6 from the second level of the MultiIndexed ``Series``."
      ]
    },
    {
      "cell_type": "code",
      "metadata": {
        "id": "OLwwnAsFXeJ_",
        "colab": {
          "base_uri": "https://localhost:8080/"
        },
        "outputId": "49556dc8-d7ab-4874-a4b7-f7b183ce4f12"
      },
      "source": [
        "s.loc[:, [1, 3, 6]] # Index these labels "
      ],
      "execution_count": 6,
      "outputs": [
        {
          "output_type": "execute_result",
          "data": {
            "text/plain": [
              "MD  1    0.936799\n",
              "    3    0.424686\n",
              "    6    0.587226\n",
              "NJ  1    0.792832\n",
              "    3    0.907033\n",
              "    6    0.243690\n",
              "NY  1    0.261478\n",
              "    3    0.750685\n",
              "    6    0.397864\n",
              "VA  1    0.817367\n",
              "    3    0.950252\n",
              "    6    0.224470\n",
              "dtype: float64"
            ]
          },
          "metadata": {},
          "execution_count": 6
        }
      ]
    },
    {
      "cell_type": "markdown",
      "metadata": {
        "id": "SlxFpSSaXeJ_"
      },
      "source": [
        "4. Slice the ``DataFrame`` df; slice up to 4th state of the first level and from label 8 onwards for the second level."
      ]
    },
    {
      "cell_type": "code",
      "metadata": {
        "id": "dC7b1fcUXeJ_",
        "colab": {
          "base_uri": "https://localhost:8080/"
        },
        "outputId": "bd931ba1-fcec-427b-f3be-c3644755bc41"
      },
      "source": [
        "s_slice=s.loc[:,[1,3,6]] # Slice from sort \n",
        "\n",
        "print(\"Sliced data is \\n\",s_slice)\n"
      ],
      "execution_count": 7,
      "outputs": [
        {
          "output_type": "stream",
          "name": "stdout",
          "text": [
            "Sliced data is \n",
            " MD  1    0.936799\n",
            "    3    0.424686\n",
            "    6    0.587226\n",
            "NJ  1    0.792832\n",
            "    3    0.907033\n",
            "    6    0.243690\n",
            "NY  1    0.261478\n",
            "    3    0.750685\n",
            "    6    0.397864\n",
            "VA  1    0.817367\n",
            "    3    0.950252\n",
            "    6    0.224470\n",
            "dtype: float64\n"
          ]
        }
      ]
    },
    {
      "cell_type": "markdown",
      "metadata": {
        "id": "Wy5SwzavXeKA"
      },
      "source": [
        " 5. Sum the values in s for each label in the first level (you should have Series giving you a total for labels 'VA', 'MD', 'NY', 'NJ' and 'TX')."
      ]
    },
    {
      "cell_type": "code",
      "metadata": {
        "id": "nhx5qCKBXeKA",
        "colab": {
          "base_uri": "https://localhost:8080/"
        },
        "outputId": "e4022e70-4976-4756-b7a4-54cb01df3a95"
      },
      "source": [
        "s.sum(level=0) # Find sum "
      ],
      "execution_count": 8,
      "outputs": [
        {
          "output_type": "execute_result",
          "data": {
            "text/plain": [
              "MD    5.397962\n",
              "NJ    4.954346\n",
              "NY    5.774726\n",
              "VA    4.833161\n",
              "dtype: float64"
            ]
          },
          "metadata": {},
          "execution_count": 8
        }
      ]
    },
    {
      "cell_type": "markdown",
      "metadata": {
        "id": "npJxDF_JXeKA"
      },
      "source": [
        "6. Using unstack, create a ``DataFrame`` from s. States index will become new columns. "
      ]
    },
    {
      "cell_type": "code",
      "metadata": {
        "id": "0_gOiDADXeKA",
        "colab": {
          "base_uri": "https://localhost:8080/"
        },
        "outputId": "08ac6e66-eeb4-493c-a115-179872db154a"
      },
      "source": [
        "df=s.unstack(level=0) # unstacking the states so that the index will become columns\n",
        "\n",
        "print(\"The dataframe is\\n\",df)"
      ],
      "execution_count": 9,
      "outputs": [
        {
          "output_type": "stream",
          "name": "stdout",
          "text": [
            "The dataframe is\n",
            "          MD        NJ        NY        VA\n",
            "0  0.439981  0.718018  0.592815  0.416032\n",
            "1  0.936799  0.792832  0.261478  0.817367\n",
            "2  0.296439  0.512986  0.338863  0.886315\n",
            "3  0.424686  0.907033  0.750685  0.950252\n",
            "4  0.508847  0.188438  0.552689  0.196700\n",
            "5  0.516678  0.122598  0.946104  0.210110\n",
            "6  0.587226  0.243690  0.397864  0.224470\n",
            "7  0.773015  0.670788  0.962165  0.612943\n",
            "8  0.100979  0.432609  0.427232  0.206975\n",
            "9  0.813310  0.365355  0.544830  0.311997\n"
          ]
        }
      ]
    }
  ]
}