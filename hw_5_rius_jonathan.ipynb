{
  "nbformat": 4,
  "nbformat_minor": 0,
  "metadata": {
    "colab": {
      "name": "hw_5_rius_jonathan.ipynb",
      "provenance": [],
      "collapsed_sections": [],
      "authorship_tag": "ABX9TyMt8xIDFQiiGQdcxJJihpMH",
      "include_colab_link": true
    },
    "kernelspec": {
      "name": "python3",
      "display_name": "Python 3"
    },
    "language_info": {
      "name": "python"
    }
  },
  "cells": [
    {
      "cell_type": "markdown",
      "metadata": {
        "id": "view-in-github",
        "colab_type": "text"
      },
      "source": [
        "<a href=\"https://colab.research.google.com/github/jonnie763/DATA-690-Data-Structures-and-Algorithms/blob/main/hw_5_rius_jonathan.ipynb\" target=\"_parent\"><img src=\"https://colab.research.google.com/assets/colab-badge.svg\" alt=\"Open In Colab\"/></a>"
      ]
    },
    {
      "cell_type": "markdown",
      "metadata": {
        "id": "2IXvnIyExMXt"
      },
      "source": [
        "Write a Python script that implements following requirements:\n",
        "\n",
        "Imagine that you are starting a new pizza restaurant franchise, and you'd like to be able to take online orders.\n",
        "\n",
        "Create a Python class called PizzaOrder that  has following capabilities. \n",
        "\n",
        "1. Ability to store and retrieve customer first name and last name\n",
        "\n",
        "2. Ability to store and retrieve the order date\n",
        "\n",
        "3. Ability to store and retrieve the order amount (cost)\n",
        "\n",
        "4. Ability to arrange the order by order amount\n",
        "\n",
        "In the code, you will create a order_robot function that creates 10 pizza orders using the class you created.\n",
        "\n",
        "order_robot function will print each order detail (string representation) and will sort the orders by the order amount."
      ]
    },
    {
      "cell_type": "markdown",
      "metadata": {
        "id": "ujCSZmkioM_3"
      },
      "source": [
        "##1. Create a PizzaOrder Class. With the ability to store information.\n"
      ]
    },
    {
      "cell_type": "code",
      "metadata": {
        "id": "4QHFzX7RMPRQ"
      },
      "source": [
        "from itertools import zip_longest\n",
        "\n",
        "class PizzaOrder(dict):\n",
        "\n",
        "     def order_robot_function():\n",
        "\n",
        "         Order_Details=[] # List comprehension \n",
        "\n",
        "         for i in range(10): # range of ten because of ten orders \n",
        "\n",
        "            Name = (input(\"Enter the customer's first and last name:\")) # Use user input to generate orders \n",
        "\n",
        "            Date = (input(\"Enter order date following the Day/Month/Year format:\")) # Do it by four steps, date, name,etc\n",
        "\n",
        "            Cost = float(input(\"Enter the cost of pizza order:\")) \n",
        "\n",
        "            Order_Details.append(Name) # Append the user inputted items \n",
        "\n",
        "            Order_Details.append(Date)\n",
        "\n",
        "            Order_Details.append(Cost)\n",
        "\n",
        "            iterables = [iter(Order_Details)] * 3 # Slice the list to generate cleaner orders \n",
        "\n",
        "            slices = zip_longest(*iterables, fillvalue=None)\n",
        "\n",
        "            for slice in slices:\n",
        "                 \n",
        "                 print(\"\\n\\n The order details are\",slice) # \\n\\n for spacing \n",
        "\n",
        "PizzaOrder.order_robot_function()\n",
        "\n",
        "class PizzaOrder(dict): # Second class to generate from least to greatest \n",
        "\n",
        "     def order_robot_function():\n",
        "\n",
        "        Cost=[]\n",
        "\n",
        "        for i in range(10):\n",
        "\n",
        "            Cost_1 = float(input(\"\\n\\n Enter the costs of pizza orders from above (Last item on end of each list):\")) \n",
        "\n",
        "            Cost.append(Cost_1)\n",
        "\n",
        "        Cost.sort()\n",
        "\n",
        "        print (\"The cost from least to greatest is\", Cost)\n",
        "\n",
        "PizzaOrder.order_robot_function()"
      ],
      "execution_count": null,
      "outputs": []
    },
    {
      "cell_type": "markdown",
      "metadata": {
        "id": "-9r3tcCmqplQ"
      },
      "source": [
        "## 2. Take three orders to show one the code output. Three orders with details and order amount least to greatest in the end. "
      ]
    },
    {
      "cell_type": "code",
      "metadata": {
        "colab": {
          "base_uri": "https://localhost:8080/"
        },
        "id": "kOp-zBsTqo49",
        "outputId": "112d3463-b428-4a87-f268-8fcb8b9e2fda"
      },
      "source": [
        "from itertools import zip_longest\n",
        "\n",
        "class PizzaOrder(dict):\n",
        "\n",
        "     def order_robot_function():\n",
        "\n",
        "         Order_Details=[]\n",
        "\n",
        "         for i in range(3):\n",
        "\n",
        "            Name = (input(\"Enter the customer's first and last name:\")) \n",
        "\n",
        "            Date = (input(\"Enter order date following the Day/Month/Year format:\")) \n",
        "\n",
        "            Cost = float(input(\"Enter the cost of pizza order:\")) \n",
        "\n",
        "            Order_Details.append(Name)\n",
        "\n",
        "            Order_Details.append(Date)\n",
        "\n",
        "            Order_Details.append(Cost)\n",
        "\n",
        "            iterables = [iter(Order_Details)] * 3\n",
        "\n",
        "            slices = zip_longest(*iterables, fillvalue=None)\n",
        "\n",
        "            for slice in slices:\n",
        "                 \n",
        "                 print(\"\\n\\n The order details are\",slice)\n",
        "\n",
        "PizzaOrder.order_robot_function()\n",
        "\n",
        "class PizzaOrder(dict):\n",
        "\n",
        "     def order_robot_function():\n",
        "\n",
        "        Cost=[]\n",
        "\n",
        "        for i in range(3):\n",
        "\n",
        "            Cost_1 = float(input(\"\\n\\n Enter the costs of pizza orders from above (Last item on end of each list):\")) \n",
        "\n",
        "            Cost.append(Cost_1)\n",
        "\n",
        "        Cost.sort()\n",
        "\n",
        "        print (\"\\n\\n The cost from least to greatest is\", Cost)\n",
        "\n",
        "PizzaOrder.order_robot_function()"
      ],
      "execution_count": 154,
      "outputs": [
        {
          "output_type": "stream",
          "name": "stdout",
          "text": [
            "Enter the customer's first and last name:Jonathan Rius\n",
            "Enter order date following the Day/Month/Year format:3/2/2021\n",
            "Enter the cost of pizza order:34.58\n",
            "\n",
            "\n",
            " The order details are ('Jonathan Rius', '3/2/2021', 34.58)\n",
            "Enter the customer's first and last name:Richard Rius \n",
            "Enter order date following the Day/Month/Year format:3/3/2021\n",
            "Enter the cost of pizza order:344.56\n",
            "\n",
            "\n",
            " The order details are ('Jonathan Rius', '3/2/2021', 34.58)\n",
            "\n",
            "\n",
            " The order details are ('Richard Rius ', '3/3/2021', 344.56)\n",
            "Enter the customer's first and last name:Zaira Rius \n",
            "Enter order date following the Day/Month/Year format:3/232021\n",
            "Enter the cost of pizza order:3.45\n",
            "\n",
            "\n",
            " The order details are ('Jonathan Rius', '3/2/2021', 34.58)\n",
            "\n",
            "\n",
            " The order details are ('Richard Rius ', '3/3/2021', 344.56)\n",
            "\n",
            "\n",
            " The order details are ('Zaira Rius ', '3/232021', 3.45)\n",
            "\n",
            "\n",
            " Enter the costs of pizza orders from above (Last item on end of each list):34.58\n",
            "\n",
            "\n",
            " Enter the costs of pizza orders from above (Last item on end of each list):344.56\n",
            "\n",
            "\n",
            " Enter the costs of pizza orders from above (Last item on end of each list):3.45\n",
            "\n",
            "\n",
            " The cost from least to greatest is [3.45, 34.58, 344.56]\n"
          ]
        }
      ]
    }
  ]
}