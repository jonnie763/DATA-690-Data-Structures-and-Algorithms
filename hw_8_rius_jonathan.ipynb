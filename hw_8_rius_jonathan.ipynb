{
  "nbformat": 4,
  "nbformat_minor": 0,
  "metadata": {
    "colab": {
      "name": "hw_8_rius_jonathan.ipynb",
      "provenance": [],
      "collapsed_sections": [],
      "authorship_tag": "ABX9TyOUDbYSHBqd0SqLAQLXQSvE",
      "include_colab_link": true
    },
    "kernelspec": {
      "name": "python3",
      "display_name": "Python 3"
    },
    "language_info": {
      "name": "python"
    }
  },
  "cells": [
    {
      "cell_type": "markdown",
      "metadata": {
        "id": "view-in-github",
        "colab_type": "text"
      },
      "source": [
        "<a href=\"https://colab.research.google.com/github/jonnie763/DATA-690-Data-Structures-and-Algorithms/blob/main/hw_8_rius_jonathan.ipynb\" target=\"_parent\"><img src=\"https://colab.research.google.com/assets/colab-badge.svg\" alt=\"Open In Colab\"/></a>"
      ]
    },
    {
      "cell_type": "markdown",
      "metadata": {
        "id": "SDsH7KPVUGoC"
      },
      "source": [
        "1) Create a new class named FlightItem by extending Item class in the Jupyter notebook handed out as the part of the lecture. \n",
        "\n",
        "Add following data attributes:\n",
        "\n",
        "departure\n",
        "\n",
        "destination\n",
        "\n",
        "travel_distance\n",
        "\n",
        "travel_time\n",
        "\n",
        "air_fare\n",
        "\n",
        "Within its constructor (__init__ method):\n",
        "\n",
        "\n",
        "**Assign value attribute as travel_distance / air_fair.**\n",
        "\n",
        "\n",
        "**Set the weight equal to travel_time**"
      ]
    },
    {
      "cell_type": "code",
      "metadata": {
        "id": "UMIiHLrPSTgP"
      },
      "source": [
        "# Greedy Algorithms\n",
        "class FlightItem(object):\n",
        "\n",
        "    def __init__(self,names, destination, travel_distance,travel_time,air_fare,departure):\n",
        "\n",
        "        self.names=names\n",
        "        self.destination = destination\n",
        "        self.travel_distance = travel_distance\n",
        "        self.travel_time = travel_time\n",
        "        self.air_fare = air_fare\n",
        "        self.departure=departure\n",
        "        \n",
        "    def get_name(self):\n",
        "        return self.names\n",
        "\n",
        "    def get_destination(self):\n",
        "        return self.destination\n",
        "    \n",
        "    def get_value(self):\n",
        "        return self.travel_distance\n",
        "    \n",
        "    def get_weight(self):\n",
        "        return self.travel_time\n",
        "    \n",
        "    def __str__(self):\n",
        "\n",
        "        result = '<' + self.names + ', ' + str(self.travel_distance)\\\n",
        "        + ', ' + str(self.travel_time) + '>'\n",
        "        return result\n",
        "\n",
        "def value(item):\n",
        "    return item.get_value()\n",
        "\n",
        "def weight_inverse(item):\n",
        "    return 1.0 / item.get_weight()\n",
        "\n",
        "def density(item):\n",
        "    return item.get_value() / item.get_weight()"
      ],
      "execution_count": 9,
      "outputs": []
    },
    {
      "cell_type": "code",
      "metadata": {
        "id": "eccQZQN6q8lL"
      },
      "source": [
        "# Greedy Algorithm Implementation\n",
        "def greedy(items, max_weight, key_function):\n",
        "\n",
        "    \"\"\"Assumes items a list, max_weight >= 0,\n",
        "       key_function maps elements of items to numbers\"\"\"\n",
        "\n",
        "    items_copy = sorted(items, key=key_function, reverse=True)\n",
        "\n",
        "    result = []\n",
        "\n",
        "    total_value, total_weight = 0.0, 0.0\n",
        "    \n",
        "    for i in range(len(items_copy)):\n",
        "        if (total_weight + items_copy[i].get_weight()) <= max_weight:\n",
        "            result.append(items_copy[i])\n",
        "            total_weight += items_copy[i].get_weight()\n",
        "            total_value += items_copy[i].get_value()\n",
        "    return (result, total_value)"
      ],
      "execution_count": 10,
      "outputs": []
    },
    {
      "cell_type": "markdown",
      "metadata": {
        "id": "-4wrGAh_UIJt"
      },
      "source": [
        "2) Modify build_items() function to use the following data to initialize item list with FlightItem objects:\n",
        "\n",
        "names = ['flight 111', 'flight 222', 'flight 333', 'flight 444', 'flight 555', 'flight 656', 'flight 777']\n",
        "\n",
        "departure = ['ALB', 'BWI', 'BOS', 'DEN', 'DFW', 'LAX', 'SFO' ]\n",
        "\n",
        "destination = ['DFW', 'SFO', 'SFO', ' LAX ', BWI', 'DFW', 'DEN' ]\n",
        "\n",
        "travel_time = [120, 300, 360, 180, 150, 90, 110]\n",
        "\n",
        "travel_distance = [1650, 2825, 3106, 1056, 1381, 1443, 1258]\n",
        "\n",
        "air_fare = [200.00, 300.00, 650.00, 150.00, 220.00, 315.00, 300.00]"
      ]
    },
    {
      "cell_type": "code",
      "metadata": {
        "id": "TKTVaAD9ULZv"
      },
      "source": [
        "def build_items():\n",
        "\n",
        "    names = ['flight 111', 'flight 222', 'flight 333', 'flight 444', 'flight 555', 'flight 656', 'flight 777']\n",
        "\n",
        "    values= [1650, 2825, 3106, 1056, 1381, 1443, 1258]\n",
        "\n",
        "    weights=[120, 300, 360, 180, 150, 90, 110]\n",
        "\n",
        "    air_fare = [200.00, 300.00, 650.00, 150.00, 220.00, 315.00, 300.00]\n",
        "\n",
        "    destination = ['DFW', 'SFO', 'SFO', ' LAX ', 'BWI', 'DFW', 'DEN' ]\n",
        "\n",
        "    departure = ['ALB', 'BWI', 'BOS', 'DEN', 'DFW', 'LAX', 'SFO' ]\n",
        "\n",
        "\n",
        "    items = []\n",
        "    for i in range(len(values)):\n",
        "\n",
        "        items.append(FlightItem(names[i], values[i], weights [i],air_fare[i],destination[i],departure[i]))\n",
        "\n",
        "    return items\n",
        "\n",
        "def test_greedy(items, max_weight, key_function):\n",
        "\n",
        "    taken, val = greedy(items, max_weight, key_function)\n",
        "\n",
        "    print('Total value of items taken is', val)\n",
        "    \n",
        "    for item in taken:\n",
        "        print('   ', item)"
      ],
      "execution_count": 11,
      "outputs": []
    },
    {
      "cell_type": "code",
      "metadata": {
        "id": "5kqDscSVrq4d"
      },
      "source": [
        "def test_greedys(max_weight = 50):\n",
        "    \n",
        "    items = build_items()\n",
        "\n",
        "    print('Use greedy by value to fill knapsack of size', max_weight)\n",
        "\n",
        "    test_greedy(items, max_weight, value)\n",
        "\n",
        "    print('\\nUse greedy by weight to fill knapsack of size', max_weight)\n",
        "\n",
        "    test_greedy(items, max_weight, weight_inverse)\n",
        "\n",
        "    print('\\nUse greedy by density to fill knapsack of size', max_weight)\n",
        "\n",
        "    test_greedy(items, max_weight, density)"
      ],
      "execution_count": 12,
      "outputs": []
    },
    {
      "cell_type": "markdown",
      "metadata": {
        "id": "_Y4cimUrUMFS"
      },
      "source": [
        "\n",
        "3) Run test_greedys() with no argument, 100, 200 and 300\n",
        "\n",
        "test_greedys()\n",
        "\n",
        "test_greedys(100)\n",
        "\n",
        "test_greedys(200)\n",
        "\n",
        "test_greedys(300)\n",
        "\n",
        "Then provide outputs for each run and submit via Blackboard"
      ]
    },
    {
      "cell_type": "code",
      "metadata": {
        "colab": {
          "base_uri": "https://localhost:8080/"
        },
        "id": "I8a86UvM0udk",
        "outputId": "a8b91863-05e5-4eb9-e353-0a0705082519"
      },
      "source": [
        "test_greedys()"
      ],
      "execution_count": 13,
      "outputs": [
        {
          "output_type": "stream",
          "name": "stdout",
          "text": [
            "Use greedy by value to fill knapsack of size 50\n",
            "Total value of items taken is 0.0\n",
            "\n",
            "Use greedy by weight to fill knapsack of size 50\n",
            "Total value of items taken is 0.0\n",
            "\n",
            "Use greedy by density to fill knapsack of size 50\n",
            "Total value of items taken is 0.0\n"
          ]
        }
      ]
    },
    {
      "cell_type": "code",
      "metadata": {
        "colab": {
          "base_uri": "https://localhost:8080/"
        },
        "id": "dIU_0JOP0vCI",
        "outputId": "8fc1f148-9652-4c88-88ad-765775847be1"
      },
      "source": [
        "test_greedys(100)"
      ],
      "execution_count": 14,
      "outputs": [
        {
          "output_type": "stream",
          "name": "stdout",
          "text": [
            "Use greedy by value to fill knapsack of size 100\n",
            "Total value of items taken is 0.0\n",
            "\n",
            "Use greedy by weight to fill knapsack of size 100\n",
            "Total value of items taken is 0.0\n",
            "\n",
            "Use greedy by density to fill knapsack of size 100\n",
            "Total value of items taken is 0.0\n"
          ]
        }
      ]
    },
    {
      "cell_type": "code",
      "metadata": {
        "colab": {
          "base_uri": "https://localhost:8080/"
        },
        "id": "MmNRJ2Qx0vNh",
        "outputId": "8e1fa368-74ee-48d5-a4f9-4f86a094f94a"
      },
      "source": [
        "test_greedys(300)"
      ],
      "execution_count": 15,
      "outputs": [
        {
          "output_type": "stream",
          "name": "stdout",
          "text": [
            "Use greedy by value to fill knapsack of size 300\n",
            "Total value of items taken is 300.0\n",
            "    <flight 222, 300, 300.0>\n",
            "\n",
            "Use greedy by weight to fill knapsack of size 300\n",
            "Total value of items taken is 180.0\n",
            "    <flight 444, 180, 150.0>\n",
            "\n",
            "Use greedy by density to fill knapsack of size 300\n",
            "Total value of items taken is 180.0\n",
            "    <flight 444, 180, 150.0>\n"
          ]
        }
      ]
    },
    {
      "cell_type": "code",
      "metadata": {
        "colab": {
          "base_uri": "https://localhost:8080/"
        },
        "id": "ExsFjyR6UO-q",
        "outputId": "73536712-9fbb-4741-b4a0-83fcfd31feee"
      },
      "source": [
        "test_greedys(400)"
      ],
      "execution_count": 16,
      "outputs": [
        {
          "output_type": "stream",
          "name": "stdout",
          "text": [
            "Use greedy by value to fill knapsack of size 400\n",
            "Total value of items taken is 300.0\n",
            "    <flight 222, 300, 300.0>\n",
            "\n",
            "Use greedy by weight to fill knapsack of size 400\n",
            "Total value of items taken is 300.0\n",
            "    <flight 444, 180, 150.0>\n",
            "    <flight 111, 120, 200.0>\n",
            "\n",
            "Use greedy by density to fill knapsack of size 400\n",
            "Total value of items taken is 330.0\n",
            "    <flight 444, 180, 150.0>\n",
            "    <flight 555, 150, 220.0>\n"
          ]
        }
      ]
    },
    {
      "cell_type": "markdown",
      "metadata": {
        "id": "t91RD397RDzd"
      },
      "source": [
        "## **NOTE: I could not print airfare, destination, and departure as part of the test greedy function, I also may have misunderstood the idea of setting the weight equal to time. Setting the weight may have been implemented incorrectly as a result. Other parts of the assignment seem to fulfilled such as modifying build items, and test greedy but some of my modifications were incorrect.**"
      ]
    }
  ]
}