{
  "nbformat": 4,
  "nbformat_minor": 0,
  "metadata": {
    "colab": {
      "name": "Lecture 1 HW .ipynb",
      "provenance": [],
      "collapsed_sections": []
    },
    "kernelspec": {
      "name": "python3",
      "display_name": "Python 3"
    },
    "language_info": {
      "name": "python"
    }
  },
  "cells": [
    {
      "cell_type": "markdown",
      "metadata": {
        "id": "6VzewVIevas8"
      },
      "source": [
        "Part 1: Install Anaconda on your local machine.. Send me the proof of installation by capturing a screen shot and submit it on Blackboard.\n",
        "\n",
        "Part 2: Setup Google Colaboratory account. Send me the proof by capturing a screen shot and submit in on Blackboard.\n",
        "\n",
        "Part 3: Create a Jupynotebook either in Jupyter (Anaconda) or Google Colab (Colaboratory)\n",
        "\n",
        "Using input function, prompt user to enter his/her name\n",
        "\n",
        "Using input function, prompt user to enter an integer\n",
        "\n",
        "Make sure to typecast the user input to an integer\n",
        "\n",
        "Using a while loop\n",
        "\n",
        "Print out user's name the number of times as indicated by the second input.\n",
        "\n",
        "For instance, if the user enters \"Harry Potter\" as the 1st input and \"5\" as the 2nd input, the script will write out \"Harry Potter\" 5 times.\n",
        "Submit the Jupyter notebook on Blackboard"
      ]
    },
    {
      "cell_type": "code",
      "metadata": {
        "colab": {
          "base_uri": "https://localhost:8080/"
        },
        "id": "NhIVTmfHwLnj",
        "outputId": "bf7f3d78-26a8-4c01-8f81-eb90472a67c8"
      },
      "source": [
        "Name = (input(\"Enter your first and last name: \")) # Name input as stated in the assignment \n",
        "\n",
        "Number = int((input(\"Enter an integer: \")))        # Now use input function to ask user to input number, make sure to typecast as integer or it won't work the while loop version \n",
        "\n",
        "for i in range(Number):                            # I did it for a for loop \n",
        "    print(Name)"
      ],
      "execution_count": null,
      "outputs": [
        {
          "output_type": "stream",
          "name": "stdout",
          "text": [
            "Enter your first and last name: Jonathan Rius\n",
            "Enter an integer: 5\n",
            "Jonathan Rius\n",
            "Jonathan Rius\n",
            "Jonathan Rius\n",
            "Jonathan Rius\n",
            "Jonathan Rius\n"
          ]
        }
      ]
    },
    {
      "cell_type": "code",
      "metadata": {
        "colab": {
          "base_uri": "https://localhost:8080/"
        },
        "id": "GiEaAZ7G0Y-H",
        "outputId": "d9dbc882-c694-48cc-9907-7dec2f369ac9"
      },
      "source": [
        "Name = (input(\"Enter your first and last name: \")) # Name input as stated in the assignment \n",
        "\n",
        "Number = int((input(\"Enter an integer: \")))        # Now use input function to ask user to input number, make sure to typecast as integer or it won't work the while loop version \n",
        "\n",
        "count = 0\n",
        "while (count < Number):                            # This time I did it on a while loop, as stated on the assignment \n",
        "    count = count + 1\n",
        "    print(Name)"
      ],
      "execution_count": null,
      "outputs": [
        {
          "output_type": "stream",
          "name": "stdout",
          "text": [
            "Enter your first and last name: Jonathan Rius\n",
            "Enter an integer: 5\n",
            "Jonathan Rius\n",
            "Jonathan Rius\n",
            "Jonathan Rius\n",
            "Jonathan Rius\n",
            "Jonathan Rius\n"
          ]
        }
      ]
    }
  ]
}
