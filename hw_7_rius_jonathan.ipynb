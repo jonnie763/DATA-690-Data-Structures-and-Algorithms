{
  "nbformat": 4,
  "nbformat_minor": 0,
  "metadata": {
    "colab": {
      "name": "hw_7_rius_jonathan.ipynb",
      "provenance": [],
      "collapsed_sections": [],
      "authorship_tag": "ABX9TyMG4w8cq6iJBUBCcq9fQWRq",
      "include_colab_link": true
    },
    "kernelspec": {
      "name": "python3",
      "display_name": "Python 3"
    },
    "language_info": {
      "name": "python"
    }
  },
  "cells": [
    {
      "cell_type": "markdown",
      "metadata": {
        "id": "view-in-github",
        "colab_type": "text"
      },
      "source": [
        "<a href=\"https://colab.research.google.com/github/jonnie763/DATA-690-Data-Structures-and-Algorithms/blob/main/hw_7_rius_jonathan.ipynb\" target=\"_parent\"><img src=\"https://colab.research.google.com/assets/colab-badge.svg\" alt=\"Open In Colab\"/></a>"
      ]
    },
    {
      "cell_type": "markdown",
      "metadata": {
        "id": "M3qPMWwgefz_"
      },
      "source": [
        "##For the example of merge sort implementation given during the lecture uses recursion:\n",
        "\n",
        "##Implement merge sort that uses iterations and does not depend on recursions."
      ]
    },
    {
      "cell_type": "markdown",
      "metadata": {
        "id": "3apnvk8JDWL8"
      },
      "source": [
        "## Recursive Merge Sort"
      ]
    },
    {
      "cell_type": "code",
      "metadata": {
        "id": "FYYm-JkWekBc"
      },
      "source": [
        "def merge(left, right, compare):\n",
        "    \"\"\"Assumes left and right are sorted lists and \n",
        "       compare defines an ordering on the elements.\n",
        "       Returns a new sorted (by compare) list containing\n",
        "       the same elements as (left + right) would contain.\"\"\"\n",
        "    result = []\n",
        "    i, j = 0, 0\n",
        "    while i < len(left) and j < len(right):\n",
        "        if compare(left[i], right[j]):\n",
        "            result.append(left[i])\n",
        "            i += 1\n",
        "        else:\n",
        "            result.append(right[j])\n",
        "            j += 1\n",
        "    while (i < len(left)) :\n",
        "        result.append(left[i])\n",
        "        i += 1\n",
        "    while (j < len(right)):\n",
        "        result.append(right[j])\n",
        "        j += 1\n",
        "    return result\n",
        "\n",
        "def merge_sort(L, compare = lambda x, y: x < y):\n",
        "    \"\"\"Assumes L is a list, compare defines an ordering\n",
        "       on elements of L.\n",
        "       Returns a new sorted list with the same elements as L\"\"\"\n",
        "    if len(L) < 2:\n",
        "        return L[:]\n",
        "    else:\n",
        "        middle = len(L) // 2\n",
        "        left = merge_sort(L[:middle], compare)\n",
        "        right = merge_sort(L[middle:], compare)\n",
        "        return merge(left, right, compare)"
      ],
      "execution_count": 8,
      "outputs": []
    },
    {
      "cell_type": "code",
      "metadata": {
        "colab": {
          "base_uri": "https://localhost:8080/"
        },
        "id": "Aj4-dZIqe9Mp",
        "outputId": "2b056fae-6d5b-483d-9098-205dff42219e"
      },
      "source": [
        "print(merge_sort([1, 5, 12, 18, 19, 20, 2, 3, 4, 17]))\n",
        "L = [2, 1, 4, 5, 3]\n",
        "print(merge_sort(L), merge_sort(L, lambda x, y: x > y))"
      ],
      "execution_count": 9,
      "outputs": [
        {
          "output_type": "stream",
          "name": "stdout",
          "text": [
            "[1, 2, 3, 4, 5, 12, 17, 18, 19, 20]\n",
            "[1, 2, 3, 4, 5] [5, 4, 3, 2, 1]\n"
          ]
        }
      ]
    },
    {
      "cell_type": "markdown",
      "metadata": {
        "id": "pxJbojeWgafK"
      },
      "source": [
        "##Iteration Merge Sort"
      ]
    },
    {
      "cell_type": "code",
      "metadata": {
        "colab": {
          "base_uri": "https://localhost:8080/"
        },
        "id": "rSE99nK5g0VH",
        "outputId": "931c3436-c328-409c-f3b9-9744c58bd967"
      },
      "source": [
        "                                    # https://www.geeksforgeeks.org/iterative-merge-sort/ (example of iterative and recursive merge sort didn't use this but was helpful for the asssignment)\n",
        "\n",
        "import random                       # I am using this for later to test a random number list for merge sort\n",
        "\n",
        "def merge(A, temp, frm, mid, to):\n",
        " \n",
        "    k = frm\n",
        "\n",
        "    i = frm\n",
        "    \n",
        "    j = mid + 1\n",
        " \n",
        "\n",
        "    while i <= mid and j <= to:\n",
        "\n",
        "        if A[i] < A[j]:\n",
        "\n",
        "            temp[k] = A[i]\n",
        "\n",
        "            i = i + 1\n",
        "            \n",
        "        else:\n",
        "            temp[k] = A[j]\n",
        "            j = j + 1\n",
        " \n",
        "        k = k + 1\n",
        " \n",
        "\n",
        "    while i < len(A) and i <= mid:\n",
        "        temp[k] = A[i]\n",
        "        k = k + 1\n",
        "        i = i + 1\n",
        "\n",
        "    for i in range(frm, to + 1):\n",
        "        A[i] = temp[i]\n",
        " \n",
        "\n",
        "def mergesort(A):\n",
        " \n",
        "    L_list= 0\n",
        "    h_list = len(A) - 1\n",
        " \n",
        "\n",
        "    temp = A.copy()\n",
        " \n",
        " \n",
        "    m = 1\n",
        "    while m <= h_list - L_list:\n",
        " \n",
        " \n",
        "        for i in range(L_list, h_list, 2*m):\n",
        "            frm = i\n",
        "\n",
        "            mid = i + m - 1\n",
        "\n",
        "            to = min(i + 2*m - 1, h_list)\n",
        "\n",
        "            merge(A, temp, frm, mid, to)\n",
        " \n",
        "        m = 2*m\n",
        " \n",
        " \n",
        "# Iterative Merge Sort is above, implementation is above \n",
        "\n",
        "if __name__ :\n",
        " \n",
        "   \n",
        "    A = [2, 1, 4, 5, 3]                      # Picked two random lists, one was from the example in the lecture notebook \n",
        "\n",
        "    B= [1, 5, 12, 18, 19, 20, 2, 3, 4, 17]\n",
        "\n",
        " \n",
        "    print(\"Original number list is:\", A)\n",
        "\n",
        "    mergesort(A)\n",
        "\n",
        "    print(\" \\n\\nModified number list is:\", A)\n",
        "\n",
        "    print(\"\\n\\nOriginal number list is :\", B)\n",
        "\n",
        "    mergesort(B)\n",
        "\n",
        "    print(\"\\n\\nModified number list is:\", B)\n",
        "\n",
        "    res = random.sample(range(1, 5000), 7)  # Used import random, to generate a random list of 1 -5000, picked seven numbers, then sorted those numbers to see if it worked ( it did)\n",
        " \n",
        "\n",
        "    print(\"\\n\\nOriginal number list is:\", res)\n",
        "    mergesort(res)\n",
        "    print(\"\\n\\nModified number list is:\", res)"
      ],
      "execution_count": 10,
      "outputs": [
        {
          "output_type": "stream",
          "name": "stdout",
          "text": [
            "Original number list is: [2, 1, 4, 5, 3]\n",
            " \n",
            "\n",
            "Modified number list is: [1, 2, 3, 4, 5]\n",
            "\n",
            "\n",
            "Original number list is : [1, 5, 12, 18, 19, 20, 2, 3, 4, 17]\n",
            "\n",
            "\n",
            "Modified number list is: [1, 2, 3, 4, 5, 12, 17, 18, 19, 20]\n",
            "\n",
            "\n",
            "Original number list is: [3687, 3031, 3164, 1120, 3587, 1584, 424]\n",
            "\n",
            "\n",
            "Modified number list is: [424, 1120, 1584, 3031, 3164, 3587, 3687]\n"
          ]
        }
      ]
    }
  ]
}