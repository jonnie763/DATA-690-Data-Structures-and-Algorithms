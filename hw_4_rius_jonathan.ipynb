{
  "nbformat": 4,
  "nbformat_minor": 0,
  "metadata": {
    "colab": {
      "name": "hw_4_rius_jonathan.ipynb",
      "provenance": [],
      "authorship_tag": "ABX9TyNKxGfAehVUEcvnRbvCRec4",
      "include_colab_link": true
    },
    "kernelspec": {
      "name": "python3",
      "display_name": "Python 3"
    },
    "language_info": {
      "name": "python"
    }
  },
  "cells": [
    {
      "cell_type": "markdown",
      "metadata": {
        "id": "view-in-github",
        "colab_type": "text"
      },
      "source": [
        "<a href=\"https://colab.research.google.com/github/jonnie763/DATA-690-Data-Structures-and-Algorithms/blob/main/hw_4_rius_jonathan.ipynb\" target=\"_parent\"><img src=\"https://colab.research.google.com/assets/colab-badge.svg\" alt=\"Open In Colab\"/></a>"
      ]
    },
    {
      "cell_type": "markdown",
      "metadata": {
        "id": "Bx_RoKRFXiej"
      },
      "source": [
        "1. Identify 4 other test cases that are needed for isBigger() function (refer to the Jupyter Notebook for Lecture 4)\n",
        "\n",
        "2. Blackbox Testing, For the specification of sqrt() function in week 4 Jupyter Notebook, come up with at least 10 blackbox test cases.\n",
        "\n",
        "3. Finger Exercise 7.1 (Handling Exception)"
      ]
    },
    {
      "cell_type": "markdown",
      "metadata": {
        "id": "71Ecg4PQbKvN"
      },
      "source": [
        "##**1.Identify 4 other test cases that are needed for isBigger() function (refer to the Jupyter Notebook for Lecture 4)**"
      ]
    },
    {
      "cell_type": "code",
      "metadata": {
        "id": "NYF_UhY6XqNM"
      },
      "source": [
        "def isBigger(x,y): # Function to be used for test cases \n",
        "  \"\"\" x and y parameters are assumed to be integer values\n",
        "    returns True if x is greater than y, False otherwise\n",
        "  \"\"\"\n",
        "  return x > y"
      ],
      "execution_count": 1,
      "outputs": []
    },
    {
      "cell_type": "markdown",
      "metadata": {
        "id": "Dhkf6gUhbu5c"
      },
      "source": [
        "Possible input subsets\n",
        "\n",
        "| x Input             | y Input           | Condition | Example| Expected Result |\n",
        "|:-------:|:-------:|:----:|:------:|:-----:|\n",
        "| Positive | Positive | x != y and x < y  | x=2, y=5    | False |\n",
        "| Positive | Positive | x != y and x > y  | x=5, y=2    | True |\n",
        "| Positive | Positive | x = y             | x=2, y=2    | False |\n",
        "| Positive | Negative |                   | x=2, y=-5   | True  | \n",
        "| Negative | Positive |                   | x=-5, y=2   | False |\n",
        "| Negative | Negative | x != y and x < y  | x=-5, y=-2  | False  |           \n",
        "| Negative | Negative | x != y and x > y  | x=-2, y=-5  | True |              \n",
        "| Negative | Negative | x = y             | x=-2, y=-2  | False |              \n",
        "| 0        | 0        |                   |             | False |\n",
        "| 0        | Positive |                   | x=0, y=2    | False |\n",
        "| 0        | Negative |                   | X=0, y=-2   | True  |\n",
        "| Positive | 0        |                   | x=2, y=0    | True  |\n",
        "| Negative | 0        |                   | x=-2, y=0   | False |"
      ]
    },
    {
      "cell_type": "code",
      "metadata": {
        "colab": {
          "base_uri": "https://localhost:8080/"
        },
        "id": "B-oakAyaOnAZ",
        "outputId": "14453174-8c78-4788-d441-563bd4e8dfb3"
      },
      "source": [
        "try: \n",
        "  assert isBigger(2, 5) == False # TEST CASE #1: Compare integer to integer, should come back \"Test succeeded\"\n",
        "except:\n",
        "  print(\"Test failed\")\n",
        "else:\n",
        "  print(\"Test succeeded\")"
      ],
      "execution_count": 2,
      "outputs": [
        {
          "output_type": "stream",
          "name": "stdout",
          "text": [
            "Test succeeded\n"
          ]
        }
      ]
    },
    {
      "cell_type": "code",
      "metadata": {
        "colab": {
          "base_uri": "https://localhost:8080/"
        },
        "id": "Vr6dx1y1Ox8L",
        "outputId": "04641f7e-9e81-4a0f-e4fa-3bc5b74a4e26"
      },
      "source": [
        "try: \n",
        "  assert isBigger(2.2, 5.5) == False # TEST CASE #2: Compare float to float, should come back \"Test succeeded\"\n",
        "except:\n",
        "  print(\"Test failed\")\n",
        "else:\n",
        "  print(\"Test succeeded\")"
      ],
      "execution_count": 3,
      "outputs": [
        {
          "output_type": "stream",
          "name": "stdout",
          "text": [
            "Test succeeded\n"
          ]
        }
      ]
    },
    {
      "cell_type": "code",
      "metadata": {
        "colab": {
          "base_uri": "https://localhost:8080/"
        },
        "id": "6FQSLFStPBe_",
        "outputId": "457bb4a0-681f-4bae-b052-6d60739ddca2"
      },
      "source": [
        "try: \n",
        "  assert isBigger(2.2, 5) == False # TEST CASE #3: Compare float to integer, should come back \"Test succeeded\"\n",
        "except:\n",
        "  print(\"Test failed\")\n",
        "else:\n",
        "  print(\"Test succeeded\")"
      ],
      "execution_count": 4,
      "outputs": [
        {
          "output_type": "stream",
          "name": "stdout",
          "text": [
            "Test succeeded\n"
          ]
        }
      ]
    },
    {
      "cell_type": "code",
      "metadata": {
        "colab": {
          "base_uri": "https://localhost:8080/"
        },
        "id": "iIra_M_y5V6f",
        "outputId": "b8e1459f-f031-47f1-9fbd-1ba32164dab7"
      },
      "source": [
        "try: \n",
        " assert isBigger(\"y\", \"t\") # TEST CASE #4: Compare string to string, should come back \"Test failed\", but comes back test succeded. Very strange maybe a bug within the function. \n",
        "except:\n",
        "  print(\"Test failed\")\n",
        "else:\n",
        "  print(\"Test succeeded\")"
      ],
      "execution_count": 5,
      "outputs": [
        {
          "output_type": "stream",
          "name": "stdout",
          "text": [
            "Test succeeded\n"
          ]
        }
      ]
    },
    {
      "cell_type": "code",
      "metadata": {
        "colab": {
          "base_uri": "https://localhost:8080/"
        },
        "id": "u7dD1t_rOmMf",
        "outputId": "45fa6acf-69a2-4ac3-f7c3-65f3440bf034"
      },
      "source": [
        "try:  \n",
        "    assert isBigger(\"y\", 5) # TEST CASE #5: Compare string to integer, should come back \"Test failed\" \n",
        "except:\n",
        "  print(\"Test failed\")\n",
        "else:\n",
        "  print(\"Test succeeded\")"
      ],
      "execution_count": 6,
      "outputs": [
        {
          "output_type": "stream",
          "name": "stdout",
          "text": [
            "Test failed\n"
          ]
        }
      ]
    },
    {
      "cell_type": "markdown",
      "metadata": {
        "id": "3d_UuUqfbPvY"
      },
      "source": [
        "##**2. Blackbox Testing, For the specification of sqrt() function in week 4 Jupyter Notebook, come up with at least 10 blackbox test cases.**"
      ]
    },
    {
      "cell_type": "code",
      "metadata": {
        "id": "XEoUJ0q1bV96"
      },
      "source": [
        "def sqrt(x, epsilon):\n",
        "  \"\"\"Assumes x, epsilon floats\n",
        "      x >= 0\n",
        "      epsilon > 0\n",
        "    Returns result such that \n",
        "      x-epsilon <= result*result <= x\n",
        "      +epsilon\"\"\""
      ],
      "execution_count": 7,
      "outputs": []
    },
    {
      "cell_type": "markdown",
      "metadata": {
        "id": "4zJfMOyl1Orc"
      },
      "source": [
        "## Ten unique test cases, including mix of integers and floats, none, single letter strings, and mutiple letter strings "
      ]
    },
    {
      "cell_type": "code",
      "metadata": {
        "colab": {
          "base_uri": "https://localhost:8080/"
        },
        "id": "fpLImknmt2pd",
        "outputId": "91554de4-659b-4e61-8533-62053e24fe14"
      },
      "source": [
        "try:                          # TEST CASE #1\n",
        "    assert sqrt(0, 0.0001) \n",
        "except:\n",
        "  print(\"Test failed\")\n",
        "else:\n",
        "  print(\"Test succeeded\")\n",
        "\n",
        "try:                         # TEST CASE #2\n",
        "    assert sqrt(25, 5) \n",
        "except:\n",
        "  print(\"Test failed\")\n",
        "else:\n",
        "  print(\"Test succeeded\")\n",
        "\n",
        "try:                        # TEST CASE #3\n",
        "    assert sqrt(25.0004, 0.0001) \n",
        "except:\n",
        "  print(\"Test failed\")\n",
        "else:\n",
        "  print(\"Test succeeded\")\n",
        "\n",
        "try:                        # TEST CASE #4\n",
        "    assert sqrt(x, y) \n",
        "except:\n",
        "  print(\"Test failed\")\n",
        "else:\n",
        "  print(\"Test succeeded\")\n",
        "\n",
        "try:                        # TEST CASE #5\n",
        "    assert sqrt(y, 0.0001) \n",
        "except:\n",
        "  print(\"Test failed\")\n",
        "else:\n",
        "  print(\"Test succeeded\")\n",
        "\n",
        "try:                        # TEST CASE #6\n",
        "    assert sqrt(g, 6) \n",
        "except:\n",
        "  print(\"Test failed\")\n",
        "else:\n",
        "  print(\"Test succeeded\")\n",
        "\n",
        "try:                        # TEST CASE #7\n",
        "    assert sqrt() \n",
        "except:\n",
        "  print(\"Test failed\")\n",
        "else:\n",
        "  print(\"Test succeeded\")\n",
        "\n",
        "try:                       # TEST CASE #8\n",
        "    assert sqrt(\"yy\", 0.0006) \n",
        "except:\n",
        "  print(\"Test failed\")\n",
        "else:\n",
        "  print(\"Test succeeded\")\n",
        "\n",
        "try:                       # TEST CASE #9\n",
        "    assert sqrt(\"yy\", 1) \n",
        "except:\n",
        "  print(\"Test failed\")\n",
        "else:\n",
        "  print(\"Test succeeded\")\n",
        "\n",
        "try:                       # TEST CASE #10\n",
        "    assert sqrt(y,\"yy\") \n",
        "except:\n",
        "  print(\"Test failed\")\n",
        "else:\n",
        "  print(\"Test succeeded\")"
      ],
      "execution_count": 8,
      "outputs": [
        {
          "output_type": "stream",
          "name": "stdout",
          "text": [
            "Test failed\n",
            "Test failed\n",
            "Test failed\n",
            "Test failed\n",
            "Test failed\n",
            "Test failed\n",
            "Test failed\n",
            "Test failed\n",
            "Test failed\n",
            "Test failed\n"
          ]
        }
      ]
    },
    {
      "cell_type": "markdown",
      "metadata": {
        "id": "XnbXBo7FbWc2"
      },
      "source": [
        "##**2.Finger Excercise 7.1**"
      ]
    },
    {
      "cell_type": "markdown",
      "metadata": {
        "id": "Z33d6YPyLpWq"
      },
      "source": [
        "Finger exercise 7.1: Implement a function that meets the specification below. Use\n",
        "a try-except block."
      ]
    },
    {
      "cell_type": "markdown",
      "metadata": {
        "id": "ezz9XekomNuX"
      },
      "source": [
        "## Where s is a list created by the user, this code ignores the string within the list to add the integers only. This is an interesting code, however, it does not exactly match the specifications of the assignment because the list contains mutiple strings. Its still pretty interesting, and worth keeping. The code below is close to the assignment solution. "
      ]
    },
    {
      "cell_type": "code",
      "metadata": {
        "colab": {
          "base_uri": "https://localhost:8080/"
        },
        "id": "jb7KKFfV6OoN",
        "outputId": "46282070-0043-4cdf-f7e9-78d293aba667"
      },
      "source": [
        "def sumDigits(s):\n",
        "    \"\"\"Assumes s is a string\n",
        "        Returns the sum of the decimal digits in s\n",
        "           For example, if s is 'a2c3c' it returns 5\"\"\"\n",
        "\n",
        "s = ['a',2,'c',3,'c']\n",
        "  \n",
        "# printing initial list\n",
        "print (\"initial list\", str(s))\n",
        "  \n",
        "# code to add numbers from list\n",
        "res = 0\n",
        "for item in s:\n",
        "    try:\n",
        "        res+= int(item)\n",
        "    except ValueError:\n",
        "        pass\n",
        "  \n",
        "# printing result\n",
        "print (\"Sum of string list is\", res)"
      ],
      "execution_count": 9,
      "outputs": [
        {
          "output_type": "stream",
          "name": "stdout",
          "text": [
            "initial list ['a', 2, 'c', 3, 'c']\n",
            "Sum of string list is 5\n"
          ]
        }
      ]
    },
    {
      "cell_type": "markdown",
      "metadata": {
        "id": "MysrsT4NntuW"
      },
      "source": [
        "## This matches the assignment details as it only takes one string then adds the sum of the integers only. Restart runtime may be required. "
      ]
    },
    {
      "cell_type": "code",
      "metadata": {
        "colab": {
          "base_uri": "https://localhost:8080/"
        },
        "id": "R2Ho1py6CXRJ",
        "outputId": "a38f1146-6e37-4e1a-db88-474baeebce83"
      },
      "source": [
        "def sumDigits(s):\n",
        "    \"\"\"Assumes s is a string\n",
        "        Returns the sum of the decimal digits in s\n",
        "           For example, if s is 'a2c3c' it returns 5\"\"\"\n",
        "           \n",
        "    new_list = []\n",
        "\n",
        "    numbers_0_9 = ['0','1', '2', '3', '4', '5', '6', '7', '8', '9']\n",
        "\n",
        "    counter = 0\n",
        "\n",
        "    for i in s:\n",
        "        new_list.append(i)\n",
        "\n",
        "        print(new_list)\n",
        "        \n",
        "    for e in new_list:\n",
        "        if e in numbers_0_9:\n",
        "            counter += int(e)\n",
        "\n",
        "    return counter\n",
        "            \n",
        "input = input(\"Enter a string: \")\n",
        "\n",
        "try:\n",
        "    \n",
        "    input is str\n",
        "    print (\"The sum of the list of digits is\",sumDigits(input))\n",
        "\n",
        "except TypeError:\n",
        "    print (input, \"is not a string\")"
      ],
      "execution_count": 10,
      "outputs": [
        {
          "output_type": "stream",
          "name": "stdout",
          "text": [
            "Enter a string: 324fsd\n",
            "['3']\n",
            "['3', '2']\n",
            "['3', '2', '4']\n",
            "['3', '2', '4', 'f']\n",
            "['3', '2', '4', 'f', 's']\n",
            "['3', '2', '4', 'f', 's', 'd']\n",
            "The sum of the list of digits is 9\n"
          ]
        }
      ]
    }
  ]
}