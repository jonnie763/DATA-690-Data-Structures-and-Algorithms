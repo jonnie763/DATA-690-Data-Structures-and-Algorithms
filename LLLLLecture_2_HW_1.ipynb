{
  "nbformat": 4,
  "nbformat_minor": 0,
  "metadata": {
    "colab": {
      "name": "Lecture 2 - HW #1.ipynb",
      "provenance": [],
      "collapsed_sections": [],
      "authorship_tag": "ABX9TyONtdAiJLR0wQeSeGD3n3xk",
      "include_colab_link": true
    },
    "kernelspec": {
      "name": "python3",
      "display_name": "Python 3"
    },
    "language_info": {
      "name": "python"
    }
  },
  "cells": [
    {
      "cell_type": "markdown",
      "metadata": {
        "id": "view-in-github",
        "colab_type": "text"
      },
      "source": [
        "<a href=\"https://colab.research.google.com/github/jonnie763/DATA-690-Data-Structures-and-Algorithms/blob/main/Lecture_2_HW_1.ipynb\" target=\"_parent\"><img src=\"https://colab.research.google.com/assets/colab-badge.svg\" alt=\"Open In Colab\"/></a>"
      ]
    },
    {
      "cell_type": "markdown",
      "metadata": {
        "id": "xn3BCEjR0SmU"
      },
      "source": [
        "Do the finger exercises at the end of the sections 3.1, 3.2, 3.5 and 4.1.1 in Guttag and submit the notebook via Blackboard.\n",
        "\n",
        "Provide answers for finger exercises in 3.3 and submit the notebook via Blackboard.\n",
        "\n",
        "By submitting this paper, you agree: (1) that you are submitting your paper to be used and stored as part of the SafeAssign™ services in accordance with the Blackboard Privacy Policy; (2) that your institution may use your paper in accordance with your institution's policies; and (3) that your use of SafeAssign will be without recourse against Blackboard Inc. and its affiliates."
      ]
    },
    {
      "cell_type": "markdown",
      "metadata": {
        "id": "yYpiVInH4VM-"
      },
      "source": [
        "## 3.1 Excercise\n",
        "\n",
        "Finger exercise: Write a program that asks the user to enter an integer and prints two integers, root\n",
        "and pwr, such that 0 < pwr < 6 and root**pwr is equal to the integers entered by the user. If no\n",
        "such pair of integers exists, it should print a message to that effect.\n"
      ]
    },
    {
      "cell_type": "code",
      "metadata": {
        "colab": {
          "base_uri": "https://localhost:8080/"
        },
        "id": "eOEnBnfM4o54",
        "outputId": "91223ad2-d76c-401e-95e0-7a097f658f1d"
      },
      "source": [
        "x = int(input(\"Enter an integer: \"))                        # Asks the user to print an integer\n",
        "\n",
        "root = 0\n",
        "\n",
        "while root < abs(x):\n",
        "    root += 1\n",
        "    for pwr in range(1,6):                                  # Appropriate range \n",
        "        if root ** pwr == abs(x):                           # Root**pwr as described on the assignment \n",
        "                print(root, \"power of\", pwr, \"=\", x)        # Print necessary message "
      ],
      "execution_count": 35,
      "outputs": [
        {
          "output_type": "stream",
          "name": "stdout",
          "text": [
            "Enter an integer: 8\n",
            "2 power of 3 = 8\n",
            "8 power of 1 = 8\n"
          ]
        }
      ]
    },
    {
      "cell_type": "markdown",
      "metadata": {
        "id": "tFbJ9GG74j_4"
      },
      "source": [
        "## 3.2 Excercise \n",
        "\n",
        "Finger exercise: Let s be a string that contains a sequence of decimal numbers separated by commas,\n",
        "e.g., s = '1.23,2.4,3.123'. Write a program that prints the sum of the numbers in s"
      ]
    },
    {
      "cell_type": "code",
      "metadata": {
        "colab": {
          "base_uri": "https://localhost:8080/"
        },
        "id": "1b16YwwF0yUy",
        "outputId": "fe642c2c-7e24-4b8d-f089-b3e6f47df9f4"
      },
      "source": [
        "s = \"1.23,2.4,3.123\"           # Variable containing numbers \n",
        "\n",
        "s_2=s.split(\",\")               # Need to account for commas marks, otherwise will not add \n",
        "\n",
        "print (s_2)\n",
        "\n",
        "total_s = sum(map(float,s_2))  # Utilize to add digits, accounts for the commas, and needs to be float to add correctly \n",
        "\n",
        "print (total_s)                # Add sum"
      ],
      "execution_count": 36,
      "outputs": [
        {
          "output_type": "stream",
          "name": "stdout",
          "text": [
            "['1.23', '2.4', '3.123']\n",
            "6.753\n"
          ]
        }
      ]
    },
    {
      "cell_type": "markdown",
      "metadata": {
        "id": "fsuSGqJQ6x13"
      },
      "source": [
        "## 3.5 Excercise \n",
        "\n",
        "Finger exercise: Add some code to the implementation of Newton-Raphson that keeps track of the\n",
        "number of iterations used to find the root. Use that code as part of a program that compares the\n",
        "efficiency of Newton-Raphson and bisection search. (You should discover that Newton-Raphson is\n",
        "more efficient.)\n"
      ]
    },
    {
      "cell_type": "code",
      "metadata": {
        "colab": {
          "base_uri": "https://localhost:8080/"
        },
        "id": "RPmda74GaPXw",
        "outputId": "605cd388-980d-4701-f2c2-5dc5b3ac5b0e"
      },
      "source": [
        "def newton_raphson():  # This is very similar to the code given in the textbook however the big difference is the counter is printed to show the iterations \n",
        "    epsilon = 0.01\n",
        "    k = 25.0\n",
        "    guess = k / 2.0\n",
        "    counter = 0\n",
        "    \n",
        "    while abs(guess * guess - k) >= epsilon:\n",
        "        guess = guess - (((guess ** 2) - k) / (2 * guess))\n",
        "        counter += 1\n",
        "    print('Square root of', k, 'is about', guess)\n",
        "    print('Newton-Raphson method is', counter, 'iterations .')\n",
        "    \n",
        "def bisection_search(): # This is very similar to the code given in the textbook however the big difference is the NumGuesses is printed to show the iterations \n",
        "    x = 25\n",
        "    epsilon = 0.01\n",
        "    numGuesses = 0\n",
        "    low = 0.0\n",
        "    high = max(1.0, x)\n",
        "    ans =(high + low)/2.0\n",
        "    \n",
        "    while abs(ans**2 - x) >= epsilon:\n",
        "        \n",
        "        numGuesses += 1\n",
        "        if ans**2 < x:\n",
        "            low = ans\n",
        "        else:\n",
        "            high = ans\n",
        "        ans = (high+low)/2.0\n",
        "        \n",
        "    print('Square root of', x, 'is about', ans)\n",
        "    print('Bisectional search method is', numGuesses, 'iterations.')\n",
        "   \n",
        "print()\n",
        "newton_raphson()\n",
        "print()\n",
        "bisection_search()"
      ],
      "execution_count": 65,
      "outputs": [
        {
          "output_type": "stream",
          "name": "stdout",
          "text": [
            "\n",
            "Square root of 25.0 is about 5.000012953048684\n",
            "Newton-Raphson method is 4 iterations .\n",
            "\n",
            "Square root of 25 is about 5.00030517578125\n",
            "Bisectional search method is 13 iterations.\n"
          ]
        }
      ]
    },
    {
      "cell_type": "code",
      "metadata": {
        "colab": {
          "base_uri": "https://localhost:8080/"
        },
        "id": "90Ybx87HEVyy",
        "outputId": "37035dd5-6726-41ba-bd9a-eaf6bdffc305"
      },
      "source": [
        "x = int(input(\"Enter an iterations from Newton-Raphson above:\"))             # Use user input to compare the efficiency \n",
        "y=  int(input(\"Enter an iterations from Bisectional search method above:\"))  \n",
        "\n",
        "if x>y:\n",
        "    print (\"Newton-Raphson is not as efficient as bisection search\")\n",
        "else:\n",
        "    print (\"Newton-Raphson is more efficient than bisectional search\")       # Newton is more efficient "
      ],
      "execution_count": 70,
      "outputs": [
        {
          "output_type": "stream",
          "name": "stdout",
          "text": [
            "Enter an iterations from Newton-Raphson above:4\n",
            "Enter an iterations from Bisectional search method above:13\n",
            "Newton-Raphson is more efficient than bisectional search\n"
          ]
        }
      ]
    },
    {
      "cell_type": "markdown",
      "metadata": {
        "id": "s1wffTXk7ccI"
      },
      "source": [
        "## 4.1.1 Excercise \n",
        "\n",
        "Finger exercise: Write a function is In that accepts two strings as\n",
        "arguments and returns True if either string occurs anywhere in the other,\n",
        "and False otherwise. Hint: you might want to use the built-in str\n",
        "operation in."
      ]
    },
    {
      "cell_type": "code",
      "metadata": {
        "colab": {
          "base_uri": "https://localhost:8080/"
        },
        "id": "VYG6Lgvy-AAp",
        "outputId": "550e2788-50be-4321-a6fa-5bcf06ad6b47"
      },
      "source": [
        "String_One=input('Enter a string: ')          # User inputs first string \n",
        "String_Two=input('Enter a second string: ')   # User inputs second string \n",
        "\n",
        "def isIn(String_One,String_Two):  \n",
        "    if String_One in String_Two:              # Essentially these conditions state that if one of the strings is in the other return true\n",
        "       return True  \n",
        "    elif String_Two in String_One:            # Elif is the additional condition \n",
        "        return True \n",
        "    else:   \n",
        "        return 'False'                        # Otherwise return False \n",
        "\n",
        "print(isIn(String_One,String_Two))  \n",
        " "
      ],
      "execution_count": 12,
      "outputs": [
        {
          "output_type": "stream",
          "name": "stdout",
          "text": [
            "Enter a string: J is\n",
            "Enter a second string: J\n",
            "True\n"
          ]
        }
      ]
    }
  ]
}
